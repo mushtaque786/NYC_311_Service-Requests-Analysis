{
 "cells": [
  {
   "cell_type": "markdown",
   "metadata": {},
   "source": [
    "<h1 style=\"color:Blue\">Project 03: Customer Service Requests Analysis</h1>\n",
    "<small>prepared by - Md. Mushtaque Ansari</small> "
   ]
  },
  {
   "cell_type": "markdown",
   "metadata": {},
   "source": [
    "<p><i>Import Required libraries.</i></p>"
   ]
  },
  {
   "cell_type": "code",
   "execution_count": 1058,
   "metadata": {},
   "outputs": [],
   "source": [
    "import numpy as np\n",
    "import pandas as pd\n",
    "import matplotlib.pyplot as plt\n",
    "import seaborn as sns\n",
    "#import datetime module\n",
    "import datetime\n",
    "# import f_oneway from scipy.stats library\n",
    "from scipy.stats import f_oneway"
   ]
  },
  {
   "cell_type": "markdown",
   "metadata": {},
   "source": [
    "<p>Import csv file into a pandas DataFrame.</p>\n"
   ]
  },
  {
   "cell_type": "code",
   "execution_count": 1059,
   "metadata": {},
   "outputs": [],
   "source": [
    "dataset = pd.read_csv('D:\\Complete MD\\Simplilearn Data Scientist\\Python Training\\Data-Science-with-Python-Project-2--master\\Data-Science-with-Python-Project-2--master\\Data Science with Python Two/311_Service_Requests_from_2010_to_Present.csv')"
   ]
  },
  {
   "cell_type": "code",
   "execution_count": 1060,
   "metadata": {},
   "outputs": [
    {
     "name": "stdout",
     "output_type": "stream",
     "text": [
      "<class 'pandas.core.frame.DataFrame'>\n",
      "RangeIndex: 300698 entries, 0 to 300697\n",
      "Data columns (total 53 columns):\n",
      "Unique Key                        300698 non-null int64\n",
      "Created Date                      300698 non-null object\n",
      "Closed Date                       298534 non-null object\n",
      "Agency                            300698 non-null object\n",
      "Agency Name                       300698 non-null object\n",
      "Complaint Type                    300698 non-null object\n",
      "Descriptor                        294784 non-null object\n",
      "Location Type                     300567 non-null object\n",
      "Incident Zip                      298083 non-null float64\n",
      "Incident Address                  256288 non-null object\n",
      "Street Name                       256288 non-null object\n",
      "Cross Street 1                    251419 non-null object\n",
      "Cross Street 2                    250919 non-null object\n",
      "Intersection Street 1             43858 non-null object\n",
      "Intersection Street 2             43362 non-null object\n",
      "Address Type                      297883 non-null object\n",
      "City                              298084 non-null object\n",
      "Landmark                          349 non-null object\n",
      "Facility Type                     298527 non-null object\n",
      "Status                            300698 non-null object\n",
      "Due Date                          300695 non-null object\n",
      "Resolution Description            300698 non-null object\n",
      "Resolution Action Updated Date    298511 non-null object\n",
      "Community Board                   300698 non-null object\n",
      "Borough                           300698 non-null object\n",
      "X Coordinate (State Plane)        297158 non-null float64\n",
      "Y Coordinate (State Plane)        297158 non-null float64\n",
      "Park Facility Name                300698 non-null object\n",
      "Park Borough                      300698 non-null object\n",
      "School Name                       300698 non-null object\n",
      "School Number                     300698 non-null object\n",
      "School Region                     300697 non-null object\n",
      "School Code                       300697 non-null object\n",
      "School Phone Number               300698 non-null object\n",
      "School Address                    300698 non-null object\n",
      "School City                       300698 non-null object\n",
      "School State                      300698 non-null object\n",
      "School Zip                        300697 non-null object\n",
      "School Not Found                  300698 non-null object\n",
      "School or Citywide Complaint      0 non-null float64\n",
      "Vehicle Type                      0 non-null float64\n",
      "Taxi Company Borough              0 non-null float64\n",
      "Taxi Pick Up Location             0 non-null float64\n",
      "Bridge Highway Name               243 non-null object\n",
      "Bridge Highway Direction          243 non-null object\n",
      "Road Ramp                         213 non-null object\n",
      "Bridge Highway Segment            213 non-null object\n",
      "Garage Lot Name                   0 non-null float64\n",
      "Ferry Direction                   1 non-null object\n",
      "Ferry Terminal Name               2 non-null object\n",
      "Latitude                          297158 non-null float64\n",
      "Longitude                         297158 non-null float64\n",
      "Location                          297158 non-null object\n",
      "dtypes: float64(10), int64(1), object(42)\n",
      "memory usage: 121.6+ MB\n"
     ]
    }
   ],
   "source": [
    "dataset.info()"
   ]
  },
  {
   "cell_type": "markdown",
   "metadata": {},
   "source": [
    "<p>Lets analysis the data, and <strong>remove null value</strong> data or columns. <br>\n",
    "    There are couple of columns which are not relevant to analysis and it's save \n",
    "to drop these columns. For example 'Agency' colun, hence 'Agency Name' both have similar values. \n",
    "Few columns doesn't contain any value we can remove thoese column too.<br>\n",
    "    <i>We need to change Created Date & Closed Date datatype</i><p> "
   ]
  },
  {
   "cell_type": "code",
   "execution_count": 1061,
   "metadata": {},
   "outputs": [],
   "source": [
    "#Drop above defined columns.\n",
    "remove_unrelevant_columns= ['Agency Name','Incident Address','Street Name','Cross Street 1','Cross Street 2','Intersection Street 1',\n",
    "'Intersection Street 2','Address Type','Park Facility Name','Park Borough','School Name',\n",
    "'School Number','School Region','School Code','School Phone Number','School Address','School City',\n",
    "'School State','School Zip','School Not Found','School or Citywide Complaint','Vehicle Type',\n",
    "'Taxi Company Borough','Taxi Pick Up Location','Bridge Highway Name','Bridge Highway Direction',\n",
    "'Road Ramp','Bridge Highway Segment','Garage Lot Name','Ferry Direction','Ferry Terminal Name','Landmark',\n",
    "'X Coordinate (State Plane)','Y Coordinate (State Plane)','Due Date','Resolution Action Updated Date','Community Board','Facility Type',\n",
    "'Location']"
   ]
  },
  {
   "cell_type": "code",
   "execution_count": 1062,
   "metadata": {},
   "outputs": [],
   "source": [
    "dataset.drop(remove_unrelevant_columns, inplace=True, axis=1)\n"
   ]
  },
  {
   "cell_type": "code",
   "execution_count": 1063,
   "metadata": {},
   "outputs": [
    {
     "data": {
      "text/html": [
       "<div>\n",
       "<style scoped>\n",
       "    .dataframe tbody tr th:only-of-type {\n",
       "        vertical-align: middle;\n",
       "    }\n",
       "\n",
       "    .dataframe tbody tr th {\n",
       "        vertical-align: top;\n",
       "    }\n",
       "\n",
       "    .dataframe thead th {\n",
       "        text-align: right;\n",
       "    }\n",
       "</style>\n",
       "<table border=\"1\" class=\"dataframe\">\n",
       "  <thead>\n",
       "    <tr style=\"text-align: right;\">\n",
       "      <th></th>\n",
       "      <th>Unique Key</th>\n",
       "      <th>Created Date</th>\n",
       "      <th>Closed Date</th>\n",
       "      <th>Agency</th>\n",
       "      <th>Complaint Type</th>\n",
       "      <th>Descriptor</th>\n",
       "      <th>Location Type</th>\n",
       "      <th>Incident Zip</th>\n",
       "      <th>City</th>\n",
       "      <th>Status</th>\n",
       "      <th>Resolution Description</th>\n",
       "      <th>Borough</th>\n",
       "      <th>Latitude</th>\n",
       "      <th>Longitude</th>\n",
       "    </tr>\n",
       "  </thead>\n",
       "  <tbody>\n",
       "    <tr>\n",
       "      <td>0</td>\n",
       "      <td>32310363</td>\n",
       "      <td>12/31/2015 11:59:45 PM</td>\n",
       "      <td>01-01-16 0:55</td>\n",
       "      <td>NYPD</td>\n",
       "      <td>Noise - Street/Sidewalk</td>\n",
       "      <td>Loud Music/Party</td>\n",
       "      <td>Street/Sidewalk</td>\n",
       "      <td>10034.0</td>\n",
       "      <td>NEW YORK</td>\n",
       "      <td>Closed</td>\n",
       "      <td>The Police Department responded and upon arriv...</td>\n",
       "      <td>MANHATTAN</td>\n",
       "      <td>40.865682</td>\n",
       "      <td>-73.923501</td>\n",
       "    </tr>\n",
       "    <tr>\n",
       "      <td>1</td>\n",
       "      <td>32309934</td>\n",
       "      <td>12/31/2015 11:59:44 PM</td>\n",
       "      <td>01-01-16 1:26</td>\n",
       "      <td>NYPD</td>\n",
       "      <td>Blocked Driveway</td>\n",
       "      <td>No Access</td>\n",
       "      <td>Street/Sidewalk</td>\n",
       "      <td>11105.0</td>\n",
       "      <td>ASTORIA</td>\n",
       "      <td>Closed</td>\n",
       "      <td>The Police Department responded to the complai...</td>\n",
       "      <td>QUEENS</td>\n",
       "      <td>40.775945</td>\n",
       "      <td>-73.915094</td>\n",
       "    </tr>\n",
       "    <tr>\n",
       "      <td>2</td>\n",
       "      <td>32309159</td>\n",
       "      <td>12/31/2015 11:59:29 PM</td>\n",
       "      <td>01-01-16 4:51</td>\n",
       "      <td>NYPD</td>\n",
       "      <td>Blocked Driveway</td>\n",
       "      <td>No Access</td>\n",
       "      <td>Street/Sidewalk</td>\n",
       "      <td>10458.0</td>\n",
       "      <td>BRONX</td>\n",
       "      <td>Closed</td>\n",
       "      <td>The Police Department responded and upon arriv...</td>\n",
       "      <td>BRONX</td>\n",
       "      <td>40.870325</td>\n",
       "      <td>-73.888525</td>\n",
       "    </tr>\n",
       "    <tr>\n",
       "      <td>3</td>\n",
       "      <td>32305098</td>\n",
       "      <td>12/31/2015 11:57:46 PM</td>\n",
       "      <td>01-01-16 7:43</td>\n",
       "      <td>NYPD</td>\n",
       "      <td>Illegal Parking</td>\n",
       "      <td>Commercial Overnight Parking</td>\n",
       "      <td>Street/Sidewalk</td>\n",
       "      <td>10461.0</td>\n",
       "      <td>BRONX</td>\n",
       "      <td>Closed</td>\n",
       "      <td>The Police Department responded to the complai...</td>\n",
       "      <td>BRONX</td>\n",
       "      <td>40.835994</td>\n",
       "      <td>-73.828379</td>\n",
       "    </tr>\n",
       "    <tr>\n",
       "      <td>4</td>\n",
       "      <td>32306529</td>\n",
       "      <td>12/31/2015 11:56:58 PM</td>\n",
       "      <td>01-01-16 3:24</td>\n",
       "      <td>NYPD</td>\n",
       "      <td>Illegal Parking</td>\n",
       "      <td>Blocked Sidewalk</td>\n",
       "      <td>Street/Sidewalk</td>\n",
       "      <td>11373.0</td>\n",
       "      <td>ELMHURST</td>\n",
       "      <td>Closed</td>\n",
       "      <td>The Police Department responded and upon arriv...</td>\n",
       "      <td>QUEENS</td>\n",
       "      <td>40.733060</td>\n",
       "      <td>-73.874170</td>\n",
       "    </tr>\n",
       "  </tbody>\n",
       "</table>\n",
       "</div>"
      ],
      "text/plain": [
       "   Unique Key            Created Date    Closed Date Agency  \\\n",
       "0    32310363  12/31/2015 11:59:45 PM  01-01-16 0:55   NYPD   \n",
       "1    32309934  12/31/2015 11:59:44 PM  01-01-16 1:26   NYPD   \n",
       "2    32309159  12/31/2015 11:59:29 PM  01-01-16 4:51   NYPD   \n",
       "3    32305098  12/31/2015 11:57:46 PM  01-01-16 7:43   NYPD   \n",
       "4    32306529  12/31/2015 11:56:58 PM  01-01-16 3:24   NYPD   \n",
       "\n",
       "            Complaint Type                    Descriptor    Location Type  \\\n",
       "0  Noise - Street/Sidewalk              Loud Music/Party  Street/Sidewalk   \n",
       "1         Blocked Driveway                     No Access  Street/Sidewalk   \n",
       "2         Blocked Driveway                     No Access  Street/Sidewalk   \n",
       "3          Illegal Parking  Commercial Overnight Parking  Street/Sidewalk   \n",
       "4          Illegal Parking              Blocked Sidewalk  Street/Sidewalk   \n",
       "\n",
       "   Incident Zip      City  Status  \\\n",
       "0       10034.0  NEW YORK  Closed   \n",
       "1       11105.0   ASTORIA  Closed   \n",
       "2       10458.0     BRONX  Closed   \n",
       "3       10461.0     BRONX  Closed   \n",
       "4       11373.0  ELMHURST  Closed   \n",
       "\n",
       "                              Resolution Description    Borough   Latitude  \\\n",
       "0  The Police Department responded and upon arriv...  MANHATTAN  40.865682   \n",
       "1  The Police Department responded to the complai...     QUEENS  40.775945   \n",
       "2  The Police Department responded and upon arriv...      BRONX  40.870325   \n",
       "3  The Police Department responded to the complai...      BRONX  40.835994   \n",
       "4  The Police Department responded and upon arriv...     QUEENS  40.733060   \n",
       "\n",
       "   Longitude  \n",
       "0 -73.923501  \n",
       "1 -73.915094  \n",
       "2 -73.888525  \n",
       "3 -73.828379  \n",
       "4 -73.874170  "
      ]
     },
     "execution_count": 1063,
     "metadata": {},
     "output_type": "execute_result"
    }
   ],
   "source": [
    "dataset.head(5)"
   ]
  },
  {
   "cell_type": "code",
   "execution_count": 1064,
   "metadata": {},
   "outputs": [
    {
     "data": {
      "text/plain": [
       "Index(['Unique Key', 'Created Date', 'Closed Date', 'Agency', 'Complaint Type',\n",
       "       'Descriptor', 'Location Type', 'Incident Zip', 'City', 'Status',\n",
       "       'Resolution Description', 'Borough', 'Latitude', 'Longitude'],\n",
       "      dtype='object')"
      ]
     },
     "execution_count": 1064,
     "metadata": {},
     "output_type": "execute_result"
    }
   ],
   "source": [
    "dataset.columns"
   ]
  },
  {
   "cell_type": "markdown",
   "metadata": {},
   "source": [
    "<p> Checking city wise service request count</p>"
   ]
  },
  {
   "cell_type": "code",
   "execution_count": 1065,
   "metadata": {},
   "outputs": [
    {
     "data": {
      "text/plain": [
       "BROOKLYN               98307\n",
       "NEW YORK               65994\n",
       "BRONX                  40702\n",
       "STATEN ISLAND          12343\n",
       "JAMAICA                 7296\n",
       "ASTORIA                 6330\n",
       "FLUSHING                5971\n",
       "RIDGEWOOD               5163\n",
       "CORONA                  4295\n",
       "WOODSIDE                3544\n",
       "SOUTH RICHMOND HILL     2774\n",
       "OZONE PARK              2755\n",
       "EAST ELMHURST           2734\n",
       "ELMHURST                2673\n",
       "WOODHAVEN               2464\n",
       "MASPETH                 2462\n",
       "LONG ISLAND CITY        2437\n",
       "SOUTH OZONE PARK        2173\n",
       "RICHMOND HILL           1904\n",
       "FRESH MEADOWS           1899\n",
       "QUEENS VILLAGE          1814\n",
       "MIDDLE VILLAGE          1765\n",
       "JACKSON HEIGHTS         1689\n",
       "FOREST HILLS            1688\n",
       "REGO PARK               1486\n",
       "BAYSIDE                 1221\n",
       "COLLEGE POINT           1220\n",
       "FAR ROCKAWAY            1179\n",
       "WHITESTONE              1098\n",
       "HOLLIS                  1012\n",
       "HOWARD BEACH             931\n",
       "ROSEDALE                 922\n",
       "SPRINGFIELD GARDENS      883\n",
       "SAINT ALBANS             834\n",
       "KEW GARDENS              771\n",
       "ROCKAWAY PARK            745\n",
       "SUNNYSIDE                723\n",
       "Astoria                  717\n",
       "LITTLE NECK              559\n",
       "OAKLAND GARDENS          551\n",
       "CAMBRIA HEIGHTS          477\n",
       "BELLEROSE                375\n",
       "GLEN OAKS                306\n",
       "ARVERNE                  220\n",
       "FLORAL PARK              152\n",
       "Long Island City         134\n",
       "Woodside                 120\n",
       "NEW HYDE PARK             98\n",
       "CENTRAL PARK              97\n",
       "QUEENS                    32\n",
       "BREEZY POINT              30\n",
       "East Elmhurst             14\n",
       "Howard Beach               1\n",
       "Name: City, dtype: int64"
      ]
     },
     "execution_count": 1065,
     "metadata": {},
     "output_type": "execute_result"
    }
   ],
   "source": [
    "dataset['City'].value_counts()"
   ]
  },
  {
   "cell_type": "code",
   "execution_count": 1066,
   "metadata": {},
   "outputs": [
    {
     "data": {
      "text/plain": [
       "Unique Key                300698\n",
       "Created Date              300698\n",
       "Closed Date               298534\n",
       "Agency                    300698\n",
       "Complaint Type            300698\n",
       "Descriptor                294784\n",
       "Location Type             300567\n",
       "Incident Zip              298083\n",
       "City                      298084\n",
       "Status                    300698\n",
       "Resolution Description    300698\n",
       "Borough                   300698\n",
       "Latitude                  297158\n",
       "Longitude                 297158\n",
       "dtype: int64"
      ]
     },
     "execution_count": 1066,
     "metadata": {},
     "output_type": "execute_result"
    }
   ],
   "source": [
    "dataset.count()"
   ]
  },
  {
   "cell_type": "code",
   "execution_count": 1067,
   "metadata": {},
   "outputs": [
    {
     "data": {
      "text/plain": [
       "Unique Key                  int64\n",
       "Created Date               object\n",
       "Closed Date                object\n",
       "Agency                     object\n",
       "Complaint Type             object\n",
       "Descriptor                 object\n",
       "Location Type              object\n",
       "Incident Zip              float64\n",
       "City                       object\n",
       "Status                     object\n",
       "Resolution Description     object\n",
       "Borough                    object\n",
       "Latitude                  float64\n",
       "Longitude                 float64\n",
       "dtype: object"
      ]
     },
     "execution_count": 1067,
     "metadata": {},
     "output_type": "execute_result"
    }
   ],
   "source": [
    "#check datatype\n",
    "dataset.dtypes"
   ]
  },
  {
   "cell_type": "markdown",
   "metadata": {},
   "source": [
    "# Convert the columns ‘Created Date’ and Closed Date’ to datetime datatype"
   ]
  },
  {
   "cell_type": "code",
   "execution_count": 1068,
   "metadata": {},
   "outputs": [],
   "source": [
    "#now changing Created Date datatype to date\n",
    "dataset['Created Date'] = pd.to_datetime(dataset['Created Date'])\n",
    "#now changing Closed Date datatype to date\n",
    "dataset['Closed Date'] = pd.to_datetime(dataset['Closed Date'])\n"
   ]
  },
  {
   "cell_type": "code",
   "execution_count": 1069,
   "metadata": {},
   "outputs": [],
   "source": [
    "array_columns = ['Created Date','Closed Date']"
   ]
  },
  {
   "cell_type": "code",
   "execution_count": 1070,
   "metadata": {},
   "outputs": [],
   "source": [
    "for col in dataset.columns:\n",
    "    if dataset[col].nunique() < 300 and col not in array_columns:\n",
    "        dataset[col] = dataset[col].astype('category')"
   ]
  },
  {
   "cell_type": "code",
   "execution_count": 1071,
   "metadata": {},
   "outputs": [],
   "source": [
    "dataset.dropna(subset=['Created Date','Closed Date','City','Borough'], inplace=True)"
   ]
  },
  {
   "cell_type": "code",
   "execution_count": 1072,
   "metadata": {},
   "outputs": [],
   "source": [
    "#dataset.dtypes\n",
    "dataset[\"Request_Closing_Time\"] = dataset[\"Closed Date\"] - dataset[\"Created Date\"]"
   ]
  },
  {
   "cell_type": "code",
   "execution_count": 1073,
   "metadata": {},
   "outputs": [
    {
     "name": "stdout",
     "output_type": "stream",
     "text": [
      "<class 'pandas.core.frame.DataFrame'>\n",
      "Int64Index: 298028 entries, 0 to 300697\n",
      "Data columns (total 15 columns):\n",
      "Unique Key                298028 non-null int64\n",
      "Created Date              298028 non-null datetime64[ns]\n",
      "Closed Date               298028 non-null datetime64[ns]\n",
      "Agency                    298028 non-null category\n",
      "Complaint Type            298028 non-null category\n",
      "Descriptor                292122 non-null category\n",
      "Location Type             297906 non-null category\n",
      "Incident Zip              298024 non-null category\n",
      "City                      298028 non-null category\n",
      "Status                    298028 non-null category\n",
      "Resolution Description    298028 non-null category\n",
      "Borough                   298028 non-null category\n",
      "Latitude                  297061 non-null float64\n",
      "Longitude                 297061 non-null float64\n",
      "Request_Closing_Time      298028 non-null timedelta64[ns]\n",
      "dtypes: category(9), datetime64[ns](2), float64(2), int64(1), timedelta64[ns](1)\n",
      "memory usage: 18.8 MB\n"
     ]
    }
   ],
   "source": [
    "dataset.info()"
   ]
  },
  {
   "cell_type": "code",
   "execution_count": 1074,
   "metadata": {},
   "outputs": [],
   "source": [
    "#Now we are ready for Data Analysis and Visualization"
   ]
  },
  {
   "cell_type": "code",
   "execution_count": 1075,
   "metadata": {},
   "outputs": [
    {
     "name": "stdout",
     "output_type": "stream",
     "text": [
      "Start from :  2015-03-29 00:33:01\n",
      "Till :  2015-12-31 23:59:45\n"
     ]
    }
   ],
   "source": [
    "#checking start ate and end date of dataset\n",
    "print('Start from : ',min(dataset['Created Date']))\n",
    "print('Till : ',max(dataset['Created Date']))"
   ]
  },
  {
   "cell_type": "markdown",
   "metadata": {},
   "source": [
    "<p>As shown above, we have the data for entire 2015 year.</p>"
   ]
  },
  {
   "cell_type": "code",
   "execution_count": 1076,
   "metadata": {},
   "outputs": [
    {
     "data": {
      "text/plain": [
       "NYPD    298028\n",
       "Name: Agency, dtype: int64"
      ]
     },
     "execution_count": 1076,
     "metadata": {},
     "output_type": "execute_result"
    }
   ],
   "source": [
    "#checking how many agency rais service request. \n",
    "dataset['Agency'].value_counts()"
   ]
  },
  {
   "cell_type": "markdown",
   "metadata": {},
   "source": [
    "<p>Above count shows that we only have NYPD requests available in our DataFrame.</p>"
   ]
  },
  {
   "cell_type": "code",
   "execution_count": 1077,
   "metadata": {},
   "outputs": [
    {
     "data": {
      "text/html": [
       "<div>\n",
       "<style scoped>\n",
       "    .dataframe tbody tr th:only-of-type {\n",
       "        vertical-align: middle;\n",
       "    }\n",
       "\n",
       "    .dataframe tbody tr th {\n",
       "        vertical-align: top;\n",
       "    }\n",
       "\n",
       "    .dataframe thead th {\n",
       "        text-align: right;\n",
       "    }\n",
       "</style>\n",
       "<table border=\"1\" class=\"dataframe\">\n",
       "  <thead>\n",
       "    <tr style=\"text-align: right;\">\n",
       "      <th></th>\n",
       "      <th>count</th>\n",
       "    </tr>\n",
       "    <tr>\n",
       "      <th>Status</th>\n",
       "      <th></th>\n",
       "    </tr>\n",
       "  </thead>\n",
       "  <tbody>\n",
       "    <tr>\n",
       "      <td>Draft</td>\n",
       "      <td>2</td>\n",
       "    </tr>\n",
       "    <tr>\n",
       "      <td>Assigned</td>\n",
       "      <td>786</td>\n",
       "    </tr>\n",
       "    <tr>\n",
       "      <td>Open</td>\n",
       "      <td>1439</td>\n",
       "    </tr>\n",
       "    <tr>\n",
       "      <td>Closed</td>\n",
       "      <td>298471</td>\n",
       "    </tr>\n",
       "  </tbody>\n",
       "</table>\n",
       "</div>"
      ],
      "text/plain": [
       "           count\n",
       "Status          \n",
       "Draft          2\n",
       "Assigned     786\n",
       "Open        1439\n",
       "Closed    298471"
      ]
     },
     "execution_count": 1077,
     "metadata": {},
     "output_type": "execute_result"
    }
   ],
   "source": [
    "#Lets check complaints status.\n",
    "statusCount = pd.DataFrame({'count':\n",
    "                                  csra_df.groupby(['Status']).size()}).sort_values(['count'], ascending=True)\n",
    "\n",
    "#now lets see status count\n",
    "statusCount"
   ]
  },
  {
   "cell_type": "code",
   "execution_count": 1078,
   "metadata": {},
   "outputs": [
    {
     "data": {
      "image/png": "[encoded data removed]",
      "text/plain": [
       "<Figure size 720x432 with 1 Axes>"
      ]
     },
     "metadata": {
      "needs_background": "light"
     },
     "output_type": "display_data"
    }
   ],
   "source": [
    "#status of tickets\n",
    "statusCount.plot(kind='bar',figsize=(10,6))\n",
    "plt.xlabel(\"Status Type\")\n",
    "plt.ylabel(\"Total no of Service Request\")\n",
    "plt.title(\"NYCPD Service Request Ticket Status\")\n",
    "plt.legend()\n",
    "plt.show()"
   ]
  },
  {
   "cell_type": "code",
   "execution_count": 1079,
   "metadata": {},
   "outputs": [
    {
     "name": "stdout",
     "output_type": "stream",
     "text": [
      "Status\n",
      "Draft        0.000665\n",
      "Assigned     0.261392\n",
      "Open         0.478553\n",
      "Closed      99.259390\n",
      "Name: percentage, dtype: float64\n"
     ]
    }
   ],
   "source": [
    "#Fetch percentage of status\n",
    "statusCount['percentage'] = (statusCount['count'] / statusCount['count'].sum()) * 100\n",
    "print(statusCount['percentage'])"
   ]
  },
  {
   "cell_type": "markdown",
   "metadata": {},
   "source": [
    "As per above graph, we can see there are total 300698 tickets out of which 99.25% ticket are closed only few are open or assigned."
   ]
  },
  {
   "cell_type": "markdown",
   "metadata": {},
   "source": [
    "<h3>Lets plot the number of complaints type received throughout 2015</h3>"
   ]
  },
  {
   "cell_type": "code",
   "execution_count": 1080,
   "metadata": {},
   "outputs": [
    {
     "data": {
      "text/html": [
       "<div>\n",
       "<style scoped>\n",
       "    .dataframe tbody tr th:only-of-type {\n",
       "        vertical-align: middle;\n",
       "    }\n",
       "\n",
       "    .dataframe tbody tr th {\n",
       "        vertical-align: top;\n",
       "    }\n",
       "\n",
       "    .dataframe thead th {\n",
       "        text-align: right;\n",
       "    }\n",
       "</style>\n",
       "<table border=\"1\" class=\"dataframe\">\n",
       "  <thead>\n",
       "    <tr style=\"text-align: right;\">\n",
       "      <th></th>\n",
       "      <th>count</th>\n",
       "    </tr>\n",
       "    <tr>\n",
       "      <th>Complaint Type</th>\n",
       "      <th></th>\n",
       "    </tr>\n",
       "  </thead>\n",
       "  <tbody>\n",
       "    <tr>\n",
       "      <td>Animal in a Park</td>\n",
       "      <td>1</td>\n",
       "    </tr>\n",
       "    <tr>\n",
       "      <td>Ferry Complaint</td>\n",
       "      <td>2</td>\n",
       "    </tr>\n",
       "    <tr>\n",
       "      <td>Squeegee</td>\n",
       "      <td>4</td>\n",
       "    </tr>\n",
       "    <tr>\n",
       "      <td>Agency Issues</td>\n",
       "      <td>6</td>\n",
       "    </tr>\n",
       "    <tr>\n",
       "      <td>Graffiti</td>\n",
       "      <td>113</td>\n",
       "    </tr>\n",
       "    <tr>\n",
       "      <td>Illegal Fireworks</td>\n",
       "      <td>168</td>\n",
       "    </tr>\n",
       "    <tr>\n",
       "      <td>Disorderly Youth</td>\n",
       "      <td>286</td>\n",
       "    </tr>\n",
       "    <tr>\n",
       "      <td>Panhandling</td>\n",
       "      <td>307</td>\n",
       "    </tr>\n",
       "    <tr>\n",
       "      <td>Bike/Roller/Skate Chronic</td>\n",
       "      <td>427</td>\n",
       "    </tr>\n",
       "    <tr>\n",
       "      <td>Urinating in Public</td>\n",
       "      <td>592</td>\n",
       "    </tr>\n",
       "    <tr>\n",
       "      <td>Posting Advertisement</td>\n",
       "      <td>650</td>\n",
       "    </tr>\n",
       "    <tr>\n",
       "      <td>Noise - House of Worship</td>\n",
       "      <td>931</td>\n",
       "    </tr>\n",
       "    <tr>\n",
       "      <td>Drinking</td>\n",
       "      <td>1280</td>\n",
       "    </tr>\n",
       "    <tr>\n",
       "      <td>Vending</td>\n",
       "      <td>3802</td>\n",
       "    </tr>\n",
       "    <tr>\n",
       "      <td>Noise - Park</td>\n",
       "      <td>4042</td>\n",
       "    </tr>\n",
       "    <tr>\n",
       "      <td>Homeless Encampment</td>\n",
       "      <td>4416</td>\n",
       "    </tr>\n",
       "    <tr>\n",
       "      <td>Traffic</td>\n",
       "      <td>4498</td>\n",
       "    </tr>\n",
       "    <tr>\n",
       "      <td>Animal Abuse</td>\n",
       "      <td>7778</td>\n",
       "    </tr>\n",
       "    <tr>\n",
       "      <td>Noise - Vehicle</td>\n",
       "      <td>17083</td>\n",
       "    </tr>\n",
       "    <tr>\n",
       "      <td>Derelict Vehicle</td>\n",
       "      <td>17718</td>\n",
       "    </tr>\n",
       "    <tr>\n",
       "      <td>Noise - Commercial</td>\n",
       "      <td>35577</td>\n",
       "    </tr>\n",
       "    <tr>\n",
       "      <td>Noise - Street/Sidewalk</td>\n",
       "      <td>48612</td>\n",
       "    </tr>\n",
       "    <tr>\n",
       "      <td>Illegal Parking</td>\n",
       "      <td>75361</td>\n",
       "    </tr>\n",
       "    <tr>\n",
       "      <td>Blocked Driveway</td>\n",
       "      <td>77044</td>\n",
       "    </tr>\n",
       "  </tbody>\n",
       "</table>\n",
       "</div>"
      ],
      "text/plain": [
       "                           count\n",
       "Complaint Type                  \n",
       "Animal in a Park               1\n",
       "Ferry Complaint                2\n",
       "Squeegee                       4\n",
       "Agency Issues                  6\n",
       "Graffiti                     113\n",
       "Illegal Fireworks            168\n",
       "Disorderly Youth             286\n",
       "Panhandling                  307\n",
       "Bike/Roller/Skate Chronic    427\n",
       "Urinating in Public          592\n",
       "Posting Advertisement        650\n",
       "Noise - House of Worship     931\n",
       "Drinking                    1280\n",
       "Vending                     3802\n",
       "Noise - Park                4042\n",
       "Homeless Encampment         4416\n",
       "Traffic                     4498\n",
       "Animal Abuse                7778\n",
       "Noise - Vehicle            17083\n",
       "Derelict Vehicle           17718\n",
       "Noise - Commercial         35577\n",
       "Noise - Street/Sidewalk    48612\n",
       "Illegal Parking            75361\n",
       "Blocked Driveway           77044"
      ]
     },
     "execution_count": 1080,
     "metadata": {},
     "output_type": "execute_result"
    }
   ],
   "source": [
    "ComplaitTypeCount = pd.DataFrame({'count':\n",
    "                                  csra_df.groupby(['Complaint Type'],).size()}).sort_values(['count'], ascending=True)\n",
    "ComplaitTypeCount"
   ]
  },
  {
   "cell_type": "code",
   "execution_count": 1081,
   "metadata": {},
   "outputs": [
    {
     "data": {
      "text/plain": [
       "Complaint Type\n",
       "Derelict Vehicle            5.892291\n",
       "Noise - Commercial         11.831472\n",
       "Noise - Street/Sidewalk    16.166386\n",
       "Illegal Parking            25.062022\n",
       "Blocked Driveway           25.621720\n",
       "Name: percentage, dtype: float64"
      ]
     },
     "execution_count": 1081,
     "metadata": {},
     "output_type": "execute_result"
    }
   ],
   "source": [
    "ComplaitTypeCount['percentage'] = (ComplaitTypeCount['count'] / ComplaitTypeCount['count'].sum()) * 100\n",
    "ComplaitTypeCount['percentage'].tail() #showing last 5"
   ]
  },
  {
   "cell_type": "code",
   "execution_count": 1082,
   "metadata": {},
   "outputs": [
    {
     "data": {
      "image/png": "[encoded data removed]",
      "text/plain": [
       "<Figure size 1080x720 with 1 Axes>"
      ]
     },
     "metadata": {
      "needs_background": "light"
     },
     "output_type": "display_data"
    }
   ],
   "source": [
    "#Now lets create graph to analysis top 10 complaint type \n",
    "ComplaitTypeCount.tail(10).plot(kind='barh',alpha=0.6,figsize=(15,10),width = 0.6,color='b')\n",
    "plt.xlabel(\"Total no of Service Request \")\n",
    "plt.ylabel(\"Complaint Type Name\")\n",
    "plt.title(\"NYCPD City Wise Total No Of Complaint\")\n",
    "plt.legend()\n",
    "plt.show()"
   ]
  },
  {
   "cell_type": "markdown",
   "metadata": {},
   "source": [
    "<p style=\"color:green\">As shown above, highest number of complaints are of 'Blocked Driveway' type, followed by 'Illegal Parking' and 'Noise - Street/Sidewalk'.</p>"
   ]
  },
  {
   "cell_type": "markdown",
   "metadata": {},
   "source": [
    "<h3>Now lets check city wise complaint type</h3>"
   ]
  },
  {
   "cell_type": "code",
   "execution_count": 1083,
   "metadata": {},
   "outputs": [
    {
     "data": {
      "text/html": [
       "<div>\n",
       "<style scoped>\n",
       "    .dataframe tbody tr th:only-of-type {\n",
       "        vertical-align: middle;\n",
       "    }\n",
       "\n",
       "    .dataframe tbody tr th {\n",
       "        vertical-align: top;\n",
       "    }\n",
       "\n",
       "    .dataframe thead th {\n",
       "        text-align: right;\n",
       "    }\n",
       "</style>\n",
       "<table border=\"1\" class=\"dataframe\">\n",
       "  <thead>\n",
       "    <tr style=\"text-align: right;\">\n",
       "      <th></th>\n",
       "      <th>count</th>\n",
       "    </tr>\n",
       "    <tr>\n",
       "      <th>City</th>\n",
       "      <th></th>\n",
       "    </tr>\n",
       "  </thead>\n",
       "  <tbody>\n",
       "    <tr>\n",
       "      <td>WOODSIDE</td>\n",
       "      <td>3544</td>\n",
       "    </tr>\n",
       "    <tr>\n",
       "      <td>CORONA</td>\n",
       "      <td>4295</td>\n",
       "    </tr>\n",
       "    <tr>\n",
       "      <td>RIDGEWOOD</td>\n",
       "      <td>5162</td>\n",
       "    </tr>\n",
       "    <tr>\n",
       "      <td>FLUSHING</td>\n",
       "      <td>5970</td>\n",
       "    </tr>\n",
       "    <tr>\n",
       "      <td>ASTORIA</td>\n",
       "      <td>6330</td>\n",
       "    </tr>\n",
       "    <tr>\n",
       "      <td>JAMAICA</td>\n",
       "      <td>7294</td>\n",
       "    </tr>\n",
       "    <tr>\n",
       "      <td>STATEN ISLAND</td>\n",
       "      <td>12338</td>\n",
       "    </tr>\n",
       "    <tr>\n",
       "      <td>BRONX</td>\n",
       "      <td>40697</td>\n",
       "    </tr>\n",
       "    <tr>\n",
       "      <td>NEW YORK</td>\n",
       "      <td>65972</td>\n",
       "    </tr>\n",
       "    <tr>\n",
       "      <td>BROOKLYN</td>\n",
       "      <td>98295</td>\n",
       "    </tr>\n",
       "  </tbody>\n",
       "</table>\n",
       "</div>"
      ],
      "text/plain": [
       "               count\n",
       "City                \n",
       "WOODSIDE        3544\n",
       "CORONA          4295\n",
       "RIDGEWOOD       5162\n",
       "FLUSHING        5970\n",
       "ASTORIA         6330\n",
       "JAMAICA         7294\n",
       "STATEN ISLAND  12338\n",
       "BRONX          40697\n",
       "NEW YORK       65972\n",
       "BROOKLYN       98295"
      ]
     },
     "execution_count": 1083,
     "metadata": {},
     "output_type": "execute_result"
    }
   ],
   "source": [
    "\n",
    "CityWiseComplaintCount = pd.DataFrame({'count':\n",
    "                                  dataset.groupby(['City'],).size()}).sort_values(['count'], ascending=True)\n",
    "CityWiseComplaintCount.tail(10)"
   ]
  },
  {
   "cell_type": "code",
   "execution_count": 1084,
   "metadata": {},
   "outputs": [
    {
     "data": {
      "image/png": "[encoded data removed]",
      "text/plain": [
       "<Figure size 1080x720 with 1 Axes>"
      ]
     },
     "metadata": {
      "needs_background": "light"
     },
     "output_type": "display_data"
    }
   ],
   "source": [
    "#Now let's create graph for top 10 city with major no of complaint. \n",
    "CityWiseComplaintCount.tail(10).plot(kind='bar',alpha=0.6,figsize=(15,10),width = 0.6,color='g')\n",
    "plt.xlabel(\"City Name\")\n",
    "plt.ylabel(\"Total no of Service Request\")\n",
    "plt.title(\"NYCPD City Wise Total No Of Complaint\")\n",
    "plt.legend()\n",
    "plt.show()"
   ]
  },
  {
   "cell_type": "markdown",
   "metadata": {},
   "source": [
    "<p>As per above graph and table we can see BROOKLYN people make higest no of complaint follow by New York an BRONX</p>"
   ]
  },
  {
   "cell_type": "markdown",
   "metadata": {},
   "source": [
    "<h3 style=\"color:blue\">Lets now plot top 5 of the highest complaint types with respect to Boroughs Columns.</h3>"
   ]
  },
  {
   "cell_type": "code",
   "execution_count": 1085,
   "metadata": {},
   "outputs": [
    {
     "data": {
      "text/plain": [
       "[MANHATTAN, QUEENS, BRONX, BROOKLYN, STATEN ISLAND, Unspecified]\n",
       "Categories (6, object): [MANHATTAN, QUEENS, BRONX, BROOKLYN, STATEN ISLAND, Unspecified]"
      ]
     },
     "execution_count": 1085,
     "metadata": {},
     "output_type": "execute_result"
    }
   ],
   "source": [
    "dataset['Borough'].unique() #checking Borough"
   ]
  },
  {
   "cell_type": "code",
   "execution_count": null,
   "metadata": {},
   "outputs": [],
   "source": []
  },
  {
   "cell_type": "code",
   "execution_count": 1086,
   "metadata": {},
   "outputs": [
    {
     "data": {
      "text/html": [
       "<div>\n",
       "<style scoped>\n",
       "    .dataframe tbody tr th:only-of-type {\n",
       "        vertical-align: middle;\n",
       "    }\n",
       "\n",
       "    .dataframe tbody tr th {\n",
       "        vertical-align: top;\n",
       "    }\n",
       "\n",
       "    .dataframe thead th {\n",
       "        text-align: right;\n",
       "    }\n",
       "</style>\n",
       "<table border=\"1\" class=\"dataframe\">\n",
       "  <thead>\n",
       "    <tr style=\"text-align: right;\">\n",
       "      <th>Complaint Type</th>\n",
       "      <th>Blocked Driveway</th>\n",
       "      <th>Illegal Parking</th>\n",
       "      <th>Noise - Commercial</th>\n",
       "      <th>Noise - Street/Sidewalk</th>\n",
       "      <th>Derelict Vehicle</th>\n",
       "      <th>Animal Abuse</th>\n",
       "    </tr>\n",
       "    <tr>\n",
       "      <th>Borough</th>\n",
       "      <th></th>\n",
       "      <th></th>\n",
       "      <th></th>\n",
       "      <th></th>\n",
       "      <th></th>\n",
       "      <th></th>\n",
       "    </tr>\n",
       "  </thead>\n",
       "  <tbody>\n",
       "    <tr>\n",
       "      <td>BRONX</td>\n",
       "      <td>12754.0</td>\n",
       "      <td>7859.0</td>\n",
       "      <td>2433.0</td>\n",
       "      <td>8889.0</td>\n",
       "      <td>1952.0</td>\n",
       "      <td>1415.0</td>\n",
       "    </tr>\n",
       "    <tr>\n",
       "      <td>BROOKLYN</td>\n",
       "      <td>28147.0</td>\n",
       "      <td>27461.0</td>\n",
       "      <td>11458.0</td>\n",
       "      <td>13353.0</td>\n",
       "      <td>5179.0</td>\n",
       "      <td>2394.0</td>\n",
       "    </tr>\n",
       "    <tr>\n",
       "      <td>MANHATTAN</td>\n",
       "      <td>2070.0</td>\n",
       "      <td>12127.0</td>\n",
       "      <td>14544.0</td>\n",
       "      <td>20522.0</td>\n",
       "      <td>537.0</td>\n",
       "      <td>1525.0</td>\n",
       "    </tr>\n",
       "    <tr>\n",
       "      <td>QUEENS</td>\n",
       "      <td>31639.0</td>\n",
       "      <td>21978.0</td>\n",
       "      <td>6073.0</td>\n",
       "      <td>4406.0</td>\n",
       "      <td>8108.0</td>\n",
       "      <td>1876.0</td>\n",
       "    </tr>\n",
       "    <tr>\n",
       "      <td>STATEN ISLAND</td>\n",
       "      <td>2142.0</td>\n",
       "      <td>4886.0</td>\n",
       "      <td>677.0</td>\n",
       "      <td>816.0</td>\n",
       "      <td>1766.0</td>\n",
       "      <td>557.0</td>\n",
       "    </tr>\n",
       "  </tbody>\n",
       "</table>\n",
       "</div>"
      ],
      "text/plain": [
       "Complaint Type  Blocked Driveway  Illegal Parking  Noise - Commercial  \\\n",
       "Borough                                                                 \n",
       "BRONX                    12754.0           7859.0              2433.0   \n",
       "BROOKLYN                 28147.0          27461.0             11458.0   \n",
       "MANHATTAN                 2070.0          12127.0             14544.0   \n",
       "QUEENS                   31639.0          21978.0              6073.0   \n",
       "STATEN ISLAND             2142.0           4886.0               677.0   \n",
       "\n",
       "Complaint Type  Noise - Street/Sidewalk  Derelict Vehicle  Animal Abuse  \n",
       "Borough                                                                  \n",
       "BRONX                            8889.0            1952.0        1415.0  \n",
       "BROOKLYN                        13353.0            5179.0        2394.0  \n",
       "MANHATTAN                       20522.0             537.0        1525.0  \n",
       "QUEENS                           4406.0            8108.0        1876.0  \n",
       "STATEN ISLAND                     816.0            1766.0         557.0  "
      ]
     },
     "execution_count": 1086,
     "metadata": {},
     "output_type": "execute_result"
    }
   ],
   "source": [
    "top6Complaints = ['Blocked Driveway','Illegal Parking','Noise - Commercial','Noise - Street/Sidewalk','Derelict Vehicle','Animal Abuse']\n",
    "compBorough = dataset.groupby(['Borough','Complaint Type']).size().unstack()\n",
    "compBorough = compBorough[top6Complaints]\n",
    "compBorough.head() #head by default top 5\n"
   ]
  },
  {
   "cell_type": "code",
   "execution_count": 1126,
   "metadata": {},
   "outputs": [],
   "source": [
    "BoroughTop5 = compBorough.head()"
   ]
  },
  {
   "cell_type": "code",
   "execution_count": 1127,
   "metadata": {},
   "outputs": [
    {
     "data": {
      "text/html": [
       "<div>\n",
       "<style scoped>\n",
       "    .dataframe tbody tr th:only-of-type {\n",
       "        vertical-align: middle;\n",
       "    }\n",
       "\n",
       "    .dataframe tbody tr th {\n",
       "        vertical-align: top;\n",
       "    }\n",
       "\n",
       "    .dataframe thead th {\n",
       "        text-align: right;\n",
       "    }\n",
       "</style>\n",
       "<table border=\"1\" class=\"dataframe\">\n",
       "  <thead>\n",
       "    <tr style=\"text-align: right;\">\n",
       "      <th>Complaint Type</th>\n",
       "      <th>Blocked Driveway</th>\n",
       "      <th>Illegal Parking</th>\n",
       "      <th>Noise - Commercial</th>\n",
       "      <th>Noise - Street/Sidewalk</th>\n",
       "      <th>Derelict Vehicle</th>\n",
       "      <th>Animal Abuse</th>\n",
       "    </tr>\n",
       "    <tr>\n",
       "      <th>Borough</th>\n",
       "      <th></th>\n",
       "      <th></th>\n",
       "      <th></th>\n",
       "      <th></th>\n",
       "      <th></th>\n",
       "      <th></th>\n",
       "    </tr>\n",
       "  </thead>\n",
       "  <tbody>\n",
       "    <tr>\n",
       "      <td>BRONX</td>\n",
       "      <td>12754.0</td>\n",
       "      <td>7859.0</td>\n",
       "      <td>2433.0</td>\n",
       "      <td>8889.0</td>\n",
       "      <td>1952.0</td>\n",
       "      <td>1415.0</td>\n",
       "    </tr>\n",
       "    <tr>\n",
       "      <td>BROOKLYN</td>\n",
       "      <td>28147.0</td>\n",
       "      <td>27461.0</td>\n",
       "      <td>11458.0</td>\n",
       "      <td>13353.0</td>\n",
       "      <td>5179.0</td>\n",
       "      <td>2394.0</td>\n",
       "    </tr>\n",
       "    <tr>\n",
       "      <td>MANHATTAN</td>\n",
       "      <td>2070.0</td>\n",
       "      <td>12127.0</td>\n",
       "      <td>14544.0</td>\n",
       "      <td>20522.0</td>\n",
       "      <td>537.0</td>\n",
       "      <td>1525.0</td>\n",
       "    </tr>\n",
       "    <tr>\n",
       "      <td>QUEENS</td>\n",
       "      <td>31639.0</td>\n",
       "      <td>21978.0</td>\n",
       "      <td>6073.0</td>\n",
       "      <td>4406.0</td>\n",
       "      <td>8108.0</td>\n",
       "      <td>1876.0</td>\n",
       "    </tr>\n",
       "    <tr>\n",
       "      <td>STATEN ISLAND</td>\n",
       "      <td>2142.0</td>\n",
       "      <td>4886.0</td>\n",
       "      <td>677.0</td>\n",
       "      <td>816.0</td>\n",
       "      <td>1766.0</td>\n",
       "      <td>557.0</td>\n",
       "    </tr>\n",
       "  </tbody>\n",
       "</table>\n",
       "</div>"
      ],
      "text/plain": [
       "Complaint Type  Blocked Driveway  Illegal Parking  Noise - Commercial  \\\n",
       "Borough                                                                 \n",
       "BRONX                    12754.0           7859.0              2433.0   \n",
       "BROOKLYN                 28147.0          27461.0             11458.0   \n",
       "MANHATTAN                 2070.0          12127.0             14544.0   \n",
       "QUEENS                   31639.0          21978.0              6073.0   \n",
       "STATEN ISLAND             2142.0           4886.0               677.0   \n",
       "\n",
       "Complaint Type  Noise - Street/Sidewalk  Derelict Vehicle  Animal Abuse  \n",
       "Borough                                                                  \n",
       "BRONX                            8889.0            1952.0        1415.0  \n",
       "BROOKLYN                        13353.0            5179.0        2394.0  \n",
       "MANHATTAN                       20522.0             537.0        1525.0  \n",
       "QUEENS                           4406.0            8108.0        1876.0  \n",
       "STATEN ISLAND                     816.0            1766.0         557.0  "
      ]
     },
     "execution_count": 1127,
     "metadata": {},
     "output_type": "execute_result"
    }
   ],
   "source": [
    "BoroughTop5"
   ]
  },
  {
   "cell_type": "markdown",
   "metadata": {},
   "source": [
    "<h4 style=\"color:blue\">Lets now generate graph for top 5 of the highest complaint types with respect to Boroughs Columns.</h4>"
   ]
  },
  {
   "cell_type": "code",
   "execution_count": 1089,
   "metadata": {},
   "outputs": [
    {
     "data": {
      "image/png": "[encoded data removed]",
      "text/plain": [
       "<Figure size 864x576 with 6 Axes>"
      ]
     },
     "metadata": {
      "needs_background": "light"
     },
     "output_type": "display_data"
    }
   ],
   "source": [
    "col_number = 2\n",
    "row_number = 3\n",
    "fig, axes = plt.subplots(row_number,col_number, figsize=(12,8))\n",
    "\n",
    "for i, (label,col) in enumerate(BoroughTop5.iteritems()):\n",
    "    ax = axes[int(i/col_number), i%col_number]\n",
    "    col = col.sort_values(ascending=True)[:15]\n",
    "    col.plot(kind='barh', ax=ax,color='c')\n",
    "    ax.set_title(label,color='g')\n",
    "    \n",
    "plt.tight_layout()"
   ]
  },
  {
   "cell_type": "markdown",
   "metadata": {},
   "source": [
    "<h3 style=\"color:blue\"> Insight of above generated graph:-</h3><br>\n",
    "<ul><li><p><b>Queens</b> has highest complaints for <span style=\"color:red\">'Blocked Driveway'</span> as well as for <span style=\"color:red\">'Derelict Vehicle'<span>.</li>\n",
    "<li><b>Brooklyn</b> has the most number of <span style=\"color:red\">'Illegal parking'</span> complaints and is also on the top for <span style=\"color:red\">'Animal Abuse'</span>.</li>\n",
    "<li><b>Manhattan</b> is making most of the <span style=\"color:red\">noise</span>, followed by <b>Brooklyn</b>.</li>\n",
    "\n",
    "</ul>"
   ]
  },
  {
   "cell_type": "code",
   "execution_count": 1090,
   "metadata": {},
   "outputs": [],
   "source": [
    "#Lets check total no of complaint city wise. "
   ]
  },
  {
   "cell_type": "code",
   "execution_count": 1091,
   "metadata": {},
   "outputs": [
    {
     "data": {
      "text/html": [
       "<div>\n",
       "<style scoped>\n",
       "    .dataframe tbody tr th:only-of-type {\n",
       "        vertical-align: middle;\n",
       "    }\n",
       "\n",
       "    .dataframe tbody tr th {\n",
       "        vertical-align: top;\n",
       "    }\n",
       "\n",
       "    .dataframe thead th {\n",
       "        text-align: right;\n",
       "    }\n",
       "</style>\n",
       "<table border=\"1\" class=\"dataframe\">\n",
       "  <thead>\n",
       "    <tr style=\"text-align: right;\">\n",
       "      <th></th>\n",
       "      <th>count</th>\n",
       "    </tr>\n",
       "    <tr>\n",
       "      <th>City</th>\n",
       "      <th></th>\n",
       "    </tr>\n",
       "  </thead>\n",
       "  <tbody>\n",
       "    <tr>\n",
       "      <td>BROOKLYN</td>\n",
       "      <td>98295</td>\n",
       "    </tr>\n",
       "    <tr>\n",
       "      <td>NEW YORK</td>\n",
       "      <td>65972</td>\n",
       "    </tr>\n",
       "    <tr>\n",
       "      <td>BRONX</td>\n",
       "      <td>40697</td>\n",
       "    </tr>\n",
       "    <tr>\n",
       "      <td>STATEN ISLAND</td>\n",
       "      <td>12338</td>\n",
       "    </tr>\n",
       "    <tr>\n",
       "      <td>JAMAICA</td>\n",
       "      <td>7294</td>\n",
       "    </tr>\n",
       "  </tbody>\n",
       "</table>\n",
       "</div>"
      ],
      "text/plain": [
       "               count\n",
       "City                \n",
       "BROOKLYN       98295\n",
       "NEW YORK       65972\n",
       "BRONX          40697\n",
       "STATEN ISLAND  12338\n",
       "JAMAICA         7294"
      ]
     },
     "execution_count": 1091,
     "metadata": {},
     "output_type": "execute_result"
    }
   ],
   "source": [
    "CityWiseComplaintCount = pd.DataFrame({'count':\n",
    "                                  dataset.groupby(['City'],).size()}).sort_values(['count'], ascending=False)\n",
    "CityWiseComplaintCount.head()\n"
   ]
  },
  {
   "cell_type": "markdown",
   "metadata": {},
   "source": [
    "<p>As per above table, <i>BROOKLYN have more complaint count, followed by New York</i></p><br>\n",
    "<h5>Now lets create bar graph for top 10 cities for highest number of complaints.</h5>"
   ]
  },
  {
   "cell_type": "code",
   "execution_count": 1092,
   "metadata": {},
   "outputs": [
    {
     "data": {
      "image/png": "[encoded data removed]",
      "text/plain": [
       "<Figure size 1080x720 with 1 Axes>"
      ]
     },
     "metadata": {
      "needs_background": "light"
     },
     "output_type": "display_data"
    }
   ],
   "source": [
    "#Now let's create graph for top 10 city with major no of complaint. \n",
    "CityWiseComplaintCount.head(10).plot(kind='bar',alpha=0.6,figsize=(15,10),width = 0.6,color='g')\n",
    "plt.xlabel(\"City Name\")\n",
    "plt.ylabel(\"Total no of Service Request\")\n",
    "plt.title(\"Top 10 Cities highest number of complaints\")\n",
    "plt.legend()\n",
    "plt.show()"
   ]
  },
  {
   "cell_type": "markdown",
   "metadata": {},
   "source": [
    "<p ><strong>City wise, Brooklyn has the most number of Complaints followed by New York and BRONX.</strong><br>\n",
    "<h4>Lets show graph against, complaints per Borough through the year, to support above graph</h></p>\n",
    "Brooklyn raise highest number of complaints in May and September and least complaint in February."
   ]
  },
  {
   "cell_type": "code",
   "execution_count": 1093,
   "metadata": {},
   "outputs": [
    {
     "data": {
      "image/png": "[encoded data removed]",
      "text/plain": [
       "<Figure size 1080x432 with 1 Axes>"
      ]
     },
     "metadata": {
      "needs_background": "light"
     },
     "output_type": "display_data"
    }
   ],
   "source": [
    "# Complaints per Borough through the year\n",
    "dataset['YYYY-MM'] = dataset['Created Date'].apply(lambda x: datetime.datetime.strftime(x, '%Y-%m'))\n",
    "dataset.groupby(['YYYY-MM','Borough']).size().unstack().plot(figsize=(15,6))\n",
    "plt.legend(loc='center left', bbox_to_anchor=(1.0, 0.5));"
   ]
  },
  {
   "cell_type": "markdown",
   "metadata": {},
   "source": [
    "<h3 style=\"color:blue\">Lets now breakdown the complaints for each Borough</h3>"
   ]
  },
  {
   "cell_type": "markdown",
   "metadata": {},
   "source": [
    "<div style=\"background-color:yellow\">"
   ]
  },
  {
   "cell_type": "code",
   "execution_count": 1094,
   "metadata": {},
   "outputs": [
    {
     "data": {
      "text/plain": [
       "<matplotlib.axes._subplots.AxesSubplot at 0x2c09a643688>"
      ]
     },
     "execution_count": 1094,
     "metadata": {},
     "output_type": "execute_result"
    },
    {
     "data": {
      "image/png": "[encoded data removed]",
      "text/plain": [
       "<Figure size 432x288 with 1 Axes>"
      ]
     },
     "metadata": {
      "needs_background": "light"
     },
     "output_type": "display_data"
    }
   ],
   "source": [
    "dataset['Borough'].value_counts().plot(kind='bar')"
   ]
  },
  {
   "cell_type": "markdown",
   "metadata": {},
   "source": [
    "</div>"
   ]
  },
  {
   "cell_type": "markdown",
   "metadata": {},
   "source": [
    "Borough wise, Brooklyn has the most number of Complaints followed by Queens and Manhattan.\n",
    "\n",
    "Lets plot a treemap of top 10 cities for highest number of complaints."
   ]
  },
  {
   "cell_type": "code",
   "execution_count": 1095,
   "metadata": {},
   "outputs": [],
   "source": [
    "borough_comp = dataset.groupby(['Complaint Type','Borough']).size().unstack()"
   ]
  },
  {
   "cell_type": "code",
   "execution_count": 1096,
   "metadata": {},
   "outputs": [],
   "source": [
    "specified_borough = borough_comp.columns[:5]"
   ]
  },
  {
   "cell_type": "code",
   "execution_count": 1097,
   "metadata": {},
   "outputs": [
    {
     "data": {
      "image/png": "[encoded data removed]",
      "text/plain": [
       "<Figure size 936x936 with 6 Axes>"
      ]
     },
     "metadata": {
      "needs_background": "light"
     },
     "output_type": "display_data"
    }
   ],
   "source": [
    "\n",
    "\n",
    "col_number = 2\n",
    "row_number = 3\n",
    "fig, axes = plt.subplots(row_number,col_number, figsize=(13,13))\n",
    "\n",
    "for i, (label,col) in enumerate(borough_comp.iteritems()):\n",
    "    if (label != 'Unspecified'): #don't create graph for unspecified borough\n",
    "        ax = axes[int(i/col_number), i%col_number]\n",
    "        col = col.sort_values(ascending=True)[:15]\n",
    "        col.plot(kind='barh', ax=ax,color='g')\n",
    "        ax.set_title(label,color='b')\n",
    "        plt.tight_layout()"
   ]
  },
  {
   "cell_type": "markdown",
   "metadata": {},
   "source": [
    "<p><ul><li style=\"color:blue\">Manhattan has highest number of Noise complaints. Fortunaltely, parking in Manhattan is better than other Boroughs.</li>\n",
    "    <li style=\"color:blue\">\n",
    "    Apart from Manhattan, number of Complaints for 'Blocked Driveway' and 'Illegal Parking' is highest for each Borough.</li>\n",
    "</p>"
   ]
  },
  {
   "cell_type": "markdown",
   "metadata": {},
   "source": [
    "<h4>Lets now move towrds the Request_Closing_Time of these complaints.</h4>"
   ]
  },
  {
   "cell_type": "code",
   "execution_count": 1098,
   "metadata": {},
   "outputs": [
    {
     "data": {
      "text/plain": [
       "count                    298028\n",
       "mean     0 days 04:18:22.338726\n",
       "std      0 days 06:04:41.423014\n",
       "min             0 days 00:01:00\n",
       "25%             0 days 01:16:24\n",
       "50%             0 days 02:42:36\n",
       "75%      0 days 05:20:23.250000\n",
       "max            24 days 16:52:22\n",
       "Name: Request_Closing_Time, dtype: object"
      ]
     },
     "execution_count": 1098,
     "metadata": {},
     "output_type": "execute_result"
    }
   ],
   "source": [
    "dataset['Request_Closing_Time'].describe()"
   ]
  },
  {
   "cell_type": "markdown",
   "metadata": {},
   "source": [
    "As per Request_Closing_Time description we can see time format on days. First we will convert our Request_Closing_Time from days to number of hours."
   ]
  },
  {
   "cell_type": "code",
   "execution_count": 1099,
   "metadata": {},
   "outputs": [
    {
     "data": {
      "text/html": [
       "<div>\n",
       "<style scoped>\n",
       "    .dataframe tbody tr th:only-of-type {\n",
       "        vertical-align: middle;\n",
       "    }\n",
       "\n",
       "    .dataframe tbody tr th {\n",
       "        vertical-align: top;\n",
       "    }\n",
       "\n",
       "    .dataframe thead th {\n",
       "        text-align: right;\n",
       "    }\n",
       "</style>\n",
       "<table border=\"1\" class=\"dataframe\">\n",
       "  <thead>\n",
       "    <tr style=\"text-align: right;\">\n",
       "      <th></th>\n",
       "      <th>Request_Closing_Time</th>\n",
       "      <th>Request_Closing_Hours</th>\n",
       "    </tr>\n",
       "  </thead>\n",
       "  <tbody>\n",
       "    <tr>\n",
       "      <td>0</td>\n",
       "      <td>00:55:15</td>\n",
       "      <td>0.0</td>\n",
       "    </tr>\n",
       "    <tr>\n",
       "      <td>1</td>\n",
       "      <td>01:26:16</td>\n",
       "      <td>1.0</td>\n",
       "    </tr>\n",
       "    <tr>\n",
       "      <td>2</td>\n",
       "      <td>04:51:31</td>\n",
       "      <td>4.0</td>\n",
       "    </tr>\n",
       "    <tr>\n",
       "      <td>3</td>\n",
       "      <td>07:45:14</td>\n",
       "      <td>7.0</td>\n",
       "    </tr>\n",
       "    <tr>\n",
       "      <td>4</td>\n",
       "      <td>03:27:02</td>\n",
       "      <td>3.0</td>\n",
       "    </tr>\n",
       "    <tr>\n",
       "      <td>5</td>\n",
       "      <td>01:53:30</td>\n",
       "      <td>1.0</td>\n",
       "    </tr>\n",
       "    <tr>\n",
       "      <td>6</td>\n",
       "      <td>01:57:28</td>\n",
       "      <td>1.0</td>\n",
       "    </tr>\n",
       "    <tr>\n",
       "      <td>7</td>\n",
       "      <td>01:47:55</td>\n",
       "      <td>1.0</td>\n",
       "    </tr>\n",
       "    <tr>\n",
       "      <td>8</td>\n",
       "      <td>08:33:02</td>\n",
       "      <td>8.0</td>\n",
       "    </tr>\n",
       "    <tr>\n",
       "      <td>9</td>\n",
       "      <td>01:23:02</td>\n",
       "      <td>1.0</td>\n",
       "    </tr>\n",
       "  </tbody>\n",
       "</table>\n",
       "</div>"
      ],
      "text/plain": [
       "  Request_Closing_Time  Request_Closing_Hours\n",
       "0             00:55:15                    0.0\n",
       "1             01:26:16                    1.0\n",
       "2             04:51:31                    4.0\n",
       "3             07:45:14                    7.0\n",
       "4             03:27:02                    3.0\n",
       "5             01:53:30                    1.0\n",
       "6             01:57:28                    1.0\n",
       "7             01:47:55                    1.0\n",
       "8             08:33:02                    8.0\n",
       "9             01:23:02                    1.0"
      ]
     },
     "execution_count": 1099,
     "metadata": {},
     "output_type": "execute_result"
    }
   ],
   "source": [
    "dataset['Request_Closing_Hours'] = dataset['Request_Closing_Time'].astype('timedelta64[h]')\n",
    "dataset[['Request_Closing_Time','Request_Closing_Hours']].head(10)\n"
   ]
  },
  {
   "cell_type": "markdown",
   "metadata": {},
   "source": [
    "<p>In above table you can see Request_Closing_Hours for time '55:15' minutes is showing 0. We should consider it as 1 hours. So, we are going to add +1 to every hours.</p>"
   ]
  },
  {
   "cell_type": "code",
   "execution_count": 1100,
   "metadata": {},
   "outputs": [
    {
     "data": {
      "text/html": [
       "<div>\n",
       "<style scoped>\n",
       "    .dataframe tbody tr th:only-of-type {\n",
       "        vertical-align: middle;\n",
       "    }\n",
       "\n",
       "    .dataframe tbody tr th {\n",
       "        vertical-align: top;\n",
       "    }\n",
       "\n",
       "    .dataframe thead th {\n",
       "        text-align: right;\n",
       "    }\n",
       "</style>\n",
       "<table border=\"1\" class=\"dataframe\">\n",
       "  <thead>\n",
       "    <tr style=\"text-align: right;\">\n",
       "      <th></th>\n",
       "      <th>Request_Closing_Time</th>\n",
       "      <th>Request_Closing_Hours</th>\n",
       "    </tr>\n",
       "  </thead>\n",
       "  <tbody>\n",
       "    <tr>\n",
       "      <td>0</td>\n",
       "      <td>00:55:15</td>\n",
       "      <td>1.0</td>\n",
       "    </tr>\n",
       "    <tr>\n",
       "      <td>1</td>\n",
       "      <td>01:26:16</td>\n",
       "      <td>2.0</td>\n",
       "    </tr>\n",
       "    <tr>\n",
       "      <td>2</td>\n",
       "      <td>04:51:31</td>\n",
       "      <td>5.0</td>\n",
       "    </tr>\n",
       "    <tr>\n",
       "      <td>3</td>\n",
       "      <td>07:45:14</td>\n",
       "      <td>8.0</td>\n",
       "    </tr>\n",
       "    <tr>\n",
       "      <td>4</td>\n",
       "      <td>03:27:02</td>\n",
       "      <td>4.0</td>\n",
       "    </tr>\n",
       "    <tr>\n",
       "      <td>5</td>\n",
       "      <td>01:53:30</td>\n",
       "      <td>2.0</td>\n",
       "    </tr>\n",
       "    <tr>\n",
       "      <td>6</td>\n",
       "      <td>01:57:28</td>\n",
       "      <td>2.0</td>\n",
       "    </tr>\n",
       "    <tr>\n",
       "      <td>7</td>\n",
       "      <td>01:47:55</td>\n",
       "      <td>2.0</td>\n",
       "    </tr>\n",
       "    <tr>\n",
       "      <td>8</td>\n",
       "      <td>08:33:02</td>\n",
       "      <td>9.0</td>\n",
       "    </tr>\n",
       "    <tr>\n",
       "      <td>9</td>\n",
       "      <td>01:23:02</td>\n",
       "      <td>2.0</td>\n",
       "    </tr>\n",
       "  </tbody>\n",
       "</table>\n",
       "</div>"
      ],
      "text/plain": [
       "  Request_Closing_Time  Request_Closing_Hours\n",
       "0             00:55:15                    1.0\n",
       "1             01:26:16                    2.0\n",
       "2             04:51:31                    5.0\n",
       "3             07:45:14                    8.0\n",
       "4             03:27:02                    4.0\n",
       "5             01:53:30                    2.0\n",
       "6             01:57:28                    2.0\n",
       "7             01:47:55                    2.0\n",
       "8             08:33:02                    9.0\n",
       "9             01:23:02                    2.0"
      ]
     },
     "execution_count": 1100,
     "metadata": {},
     "output_type": "execute_result"
    }
   ],
   "source": [
    "dataset['Request_Closing_Hours'] = dataset['Request_Closing_Time'].astype('timedelta64[h]') + 1\n",
    "dataset[['Request_Closing_Time','Request_Closing_Hours']].head(10)"
   ]
  },
  {
   "cell_type": "markdown",
   "metadata": {},
   "source": [
    "<p>Since, we have added 1 and so now 1:26 hours is closed within 2 hours and so on...</p>"
   ]
  },
  {
   "cell_type": "markdown",
   "metadata": {},
   "source": [
    "<h3> Now lets find out the mean and standard distribution of the data.</h3>"
   ]
  },
  {
   "cell_type": "code",
   "execution_count": 1101,
   "metadata": {},
   "outputs": [
    {
     "name": "stdout",
     "output_type": "stream",
     "text": [
      "Mean:  4.815839451326721\n",
      "Std:  6.080002222807575\n"
     ]
    }
   ],
   "source": [
    "mean = dataset['Request_Closing_Hours'].mean()\n",
    "std = dataset['Request_Closing_Hours'].std()\n",
    "\n",
    "print('Mean: ',mean)\n",
    "print('Std: ',std)\n"
   ]
  },
  {
   "cell_type": "code",
   "execution_count": 1102,
   "metadata": {
    "scrolled": true
   },
   "outputs": [
    {
     "data": {
      "text/plain": [
       "244488    593.0\n",
       "23664     578.0\n",
       "21268     520.0\n",
       "283132    337.0\n",
       "12168     224.0\n",
       "12167     224.0\n",
       "11251     201.0\n",
       "11254     201.0\n",
       "11110     193.0\n",
       "40690     170.0\n",
       "Name: Request_Closing_Hours, dtype: float64"
      ]
     },
     "execution_count": 1102,
     "metadata": {},
     "output_type": "execute_result"
    }
   ],
   "source": [
    "dataset['Request_Closing_Hours'].sort_values(ascending=False).head(10)"
   ]
  },
  {
   "cell_type": "markdown",
   "metadata": {},
   "source": [
    "<p>As we can see, some of the closing times are too high. Lets create box plot to analysis the outlier</p>"
   ]
  },
  {
   "cell_type": "code",
   "execution_count": 1103,
   "metadata": {},
   "outputs": [
    {
     "data": {
      "image/png": "[encoded data removed]",
      "text/plain": [
       "<Figure size 432x288 with 1 Axes>"
      ]
     },
     "metadata": {
      "needs_background": "light"
     },
     "output_type": "display_data"
    }
   ],
   "source": [
    "ax = sns.boxplot(x=dataset['Request_Closing_Hours'])"
   ]
  },
  {
   "cell_type": "markdown",
   "metadata": {},
   "source": [
    "As we can see, some of the closing times are too high and hence will be dealt as outliers.<br>\n",
    "We will convert the Request Closing time to normal z statistics and will remove any record having value more than 1.<br>\n",
    "z-statistic = (value-mean)/std<br>\n",
    "Next we will plot the histogram of our Request_Closing_Time."
   ]
  },
  {
   "cell_type": "code",
   "execution_count": 1104,
   "metadata": {},
   "outputs": [
    {
     "data": {
      "image/png": "[encoded data removed]",
      "text/plain": [
       "<Figure size 432x288 with 1 Axes>"
      ]
     },
     "metadata": {
      "needs_background": "light"
     },
     "output_type": "display_data"
    }
   ],
   "source": [
    "plot_data = dataset[ ((dataset['Request_Closing_Hours']-mean)/std) < 1]\n",
    "plot_data['Request_Closing_Hours'].hist(bins=9,color='c')\n",
    "plt.xlabel('Time(Hours) to close the request',color='g')\n",
    "plt.ylabel('Number of Requets',color='g')\n",
    "plt.title('Requests closing time distribution',color='b')\n",
    "plt.show()"
   ]
  },
  {
   "cell_type": "markdown",
   "metadata": {},
   "source": [
    "<h5 style=\"color:purple\"><li>Above distribution shows that around half of overall complaints were closed within 2 to 4 hours.</li><li>\n",
    "    Around 99% of the complaints were closed within 10 hours.</li><h5>\n",
    "    <p>Lets look at the closing complaint performance Boroughwise</p>"
   ]
  },
  {
   "cell_type": "markdown",
   "metadata": {},
   "source": [
    "<hr>"
   ]
  },
  {
   "cell_type": "code",
   "execution_count": 1105,
   "metadata": {},
   "outputs": [
    {
     "data": {
      "image/png": "[encoded data removed]",
      "text/plain": [
       "<Figure size 936x936 with 6 Axes>"
      ]
     },
     "metadata": {
      "needs_background": "light"
     },
     "output_type": "display_data"
    }
   ],
   "source": [
    "cityWiseResolution = dataset.groupby(['Complaint Type','Borough'],sort=True)[['Request_Closing_Hours']].mean().unstack()\n",
    "\n",
    "col_number = 2\n",
    "row_number = 3\n",
    "fig, axes = plt.subplots(row_number,col_number, figsize=(13,13))\n",
    "\n",
    "for i, (label,col) in enumerate(cityWiseResolution.iteritems()):\n",
    "    if (label[1] != 'Unspecified'): #don't create graph for unspecified borough as its irrelevent. \n",
    "        ax = axes[int(i/col_number), i%col_number]\n",
    "        col = col.sort_values(ascending=True)[:15]\n",
    "        col.plot(kind='barh', ax=ax,color='c')\n",
    "        ax.set_title(label,fontsize=16, pad=10,color=\"r\")\n",
    "    \n",
    "plt.tight_layout()"
   ]
  },
  {
   "cell_type": "markdown",
   "metadata": {},
   "source": [
    "Clealry <span style=\"color:red\">'Graffiti'</span> complaints are taking a long time to be closed. Could be because the number of Graffiti complaints are very less and officials are focused on more pressing issues.<br>\n",
    "<span style=\"color:green\">Manhattan, Bronx and Queens</span> are handling <span style=\"color:red\">'Disorderly Youth'</span> complaints very well.\n",
    "<span style=\"color:green\">Brooklyn</span> is performing well to close <span style=\"color:red\">Noise and traffic</span> complaints."
   ]
  },
  {
   "cell_type": "markdown",
   "metadata": {},
   "source": [
    "<h4>Lets now analysis complaints monthly wise.</h4>"
   ]
  },
  {
   "cell_type": "code",
   "execution_count": 1106,
   "metadata": {},
   "outputs": [
    {
     "data": {
      "text/plain": [
       "Text(0, 0.5, 'No Of Request')"
      ]
     },
     "execution_count": 1106,
     "metadata": {},
     "output_type": "execute_result"
    },
    {
     "data": {
      "image/png": "[encoded data removed]",
      "text/plain": [
       "<Figure size 1080x360 with 1 Axes>"
      ]
     },
     "metadata": {
      "needs_background": "light"
     },
     "output_type": "display_data"
    }
   ],
   "source": [
    "dataset['YYYY-MM'] = dataset['Created Date'].apply(lambda time: datetime.datetime.strftime(time, '%Y-%m'))\n",
    "\n",
    "#Incidents on a monthly basis\n",
    "monthly_incidents =  dataset.groupby('YYYY-MM').size()\n",
    "monthly_incidents.plot(figsize=(15,5), \n",
    "                       title='Incidents on a monthly basis',\n",
    "                               color='g');\n",
    "plt.ylabel('No Of Request',color='g')\n"
   ]
  },
  {
   "cell_type": "markdown",
   "metadata": {},
   "source": [
    "<p>As per above graph we can see that highest number of complaints are regesiter between may 2015 to September 2015. \n",
    "    <br>January and Februray have the least number of complaints</p>"
   ]
  },
  {
   "cell_type": "markdown",
   "metadata": {},
   "source": [
    "<div style=\"height:400px;width:100%;overflow:auto;background-color:#A3E4D7;color:black;scrollbar-base-color:gold;font-family:sans-serif;padding:10px;\"> <h3 style=\"color:blue\">Conclusion:</h3><br>\n",
    "<div style=\"text-align:left; padding:10px 28px\">\n",
    "1. Most complaints raised in May and September, while least in February.<br>\n",
    "2. Highest number of complaints raised are of 'Blocked Driveway'(26%).<br>\n",
    "3. Second highest number of complaints are of Illegal Parking.(25%)<br>\n",
    "4. Third highest number of complaints are of 'Noise - Street/Sidewalk'(16%).<br></div>\n",
    "\n",
    "<h4>Below are city wise insight:- </h4>\n",
    "<h3 style=\"color:blue\">Brooklyn:</h3>\n",
    "<ul style=\"text-align:left; padding:10px 28px\">\n",
    "    <li>Raises the most number of complaints as of 33%.</li>\n",
    "    <li>Mostly 'Noise- Vehicle' complaints.</li>\n",
    "    <li>Around 30% of 'Animal Abuse' complaints are raised from Brooklyn alone.</li>\n",
    "    <li>Complaints are closed in second best average closing time. (4.5 hours per complaint)</li></ul>\n",
    "<h3 style=\"color:blue\">Bronx:</h3><br>\n",
    "    <ul style=\"text-align:left; padding:10px 28px\">\n",
    "        <li>Number of Complaints around 13%.</li>\n",
    "        <li>Mostly 'Blocked Driveway' and 'Illegal Parking' complaints. (55% of all complaints raised in Bronx)</li>\n",
    "        <li>Complaints are closed in poorest closing time. (more than 6 hours per complaint)</li></ul>\n",
    "\n",
    "<h3 style=\"color:blue\">Manhattan:</h3>\n",
    "<ul style=\"text-align:left; padding:10px 28px\">\n",
    "    <li>Number of complaints are around 20%.</li>\n",
    "    <li>Mostly Noise related complaints. (55% including both streetwalk and commercial complaints)</li>\n",
    "    <li>Complaints are closed in best closing time. (3.5 hours per complaint)</li></ul>\n",
    "    <h3 style=\"color:blue\">Staten Island:</h3>\n",
    "<ul style=\"text-align:left; padding:10px 28px\">\n",
    "    <li>Lowest number of Complaints raised.(4%)</li>\n",
    "<li>Mostly 'Blocked Driveway' and 'Illegal Parking' complaints. (60% of all complaints raised in Staten Island)</li>\n",
    "    <li>Complaints are closed in average closing time.(4.5 hours per complaint)</li></ul>\n",
    "    <h3 style=\"color:blue\">Queens:</h3>\n",
    "<ul style=\"text-align:left; padding:10px 28px\">\n",
    "    <li>Number of complaints are second highest at around 28%.</li>\n",
    "<li>As Brooklyn, Mostly 'Blocked Driveway' and 'Illegal Parking' complaints. (68% of all complaints raised in Queens)</li>\n",
    "<li>40% of all 'Blocked Driveway' complaints are raised from Queens.</li>\n",
    "<li>45% of all 'Derelict Vehicle' complaints are raised from Queens.</li>\n",
    "Complaints are closed poorly, in average closing time of 5 hours.</li></ul>\n",
    "</div>"
   ]
  },
  {
   "cell_type": "markdown",
   "metadata": {},
   "source": [
    " <h3> Hypothesis testing<h3><h4>1. Whether the average response time across complaint types is similar or not (overall)</h4>\n",
    " \n"
   ]
  },
  {
   "cell_type": "markdown",
   "metadata": {},
   "source": [
    "<p>To find out average response time we need to convert our hourly timedelta into minute for more precise results. </p>"
   ]
  },
  {
   "cell_type": "code",
   "execution_count": 1107,
   "metadata": {},
   "outputs": [
    {
     "data": {
      "text/plain": [
       "0     56.0\n",
       "1     87.0\n",
       "2    292.0\n",
       "3    466.0\n",
       "4    208.0\n",
       "Name: Request_Closing_Minutes, dtype: float64"
      ]
     },
     "execution_count": 1107,
     "metadata": {},
     "output_type": "execute_result"
    }
   ],
   "source": [
    "dataset['Request_Closing_Minutes'] = dataset['Request_Closing_Time'].astype('timedelta64[m]')+1\n",
    "dataset['Request_Closing_Minutes'].head()"
   ]
  },
  {
   "cell_type": "markdown",
   "metadata": {},
   "source": [
    "<p>Now lets see the distribution complaint type wise.<br>Below is the distribution of our Request_Closing_Minutes data for 'Blocked Driveway' complaint type.<br>For better representation we will put limit in the range to 1500.</p>"
   ]
  },
  {
   "cell_type": "code",
   "execution_count": 1108,
   "metadata": {},
   "outputs": [
    {
     "data": {
      "text/plain": [
       "<matplotlib.axes._subplots.AxesSubplot at 0x2c0e61cc188>"
      ]
     },
     "execution_count": 1108,
     "metadata": {},
     "output_type": "execute_result"
    },
    {
     "data": {
      "image/png": "[encoded data removed]",
      "text/plain": [
       "<Figure size 432x288 with 1 Axes>"
      ]
     },
     "metadata": {
      "needs_background": "light"
     },
     "output_type": "display_data"
    }
   ],
   "source": [
    "original_blockedDriveway = dataset[dataset['Complaint Type']=='Blocked Driveway']['Request_Closing_Minutes']\n",
    "original_blockedDriveway.hist(bins=200,range=(0,1400))\n",
    "#Blocked Driveway Graph"
   ]
  },
  {
   "cell_type": "code",
   "execution_count": 1109,
   "metadata": {},
   "outputs": [
    {
     "data": {
      "text/plain": [
       "<matplotlib.axes._subplots.AxesSubplot at 0x2c102be5188>"
      ]
     },
     "execution_count": 1109,
     "metadata": {},
     "output_type": "execute_result"
    },
    {
     "data": {
      "image/png": "[encoded data removed]",
      "text/plain": [
       "<Figure size 432x288 with 1 Axes>"
      ]
     },
     "metadata": {
      "needs_background": "light"
     },
     "output_type": "display_data"
    }
   ],
   "source": [
    "original_IllegalParking = dataset[dataset['Complaint Type']=='Illegal Parking']['Request_Closing_Minutes']\n",
    "original_IllegalParking.hist(bins=200,range=(0,1400))\n",
    "#'Illegal Parking' graph"
   ]
  },
  {
   "cell_type": "markdown",
   "metadata": {},
   "source": [
    "<li>We see a positive skewness in both data if we limit the range to 1400 for <span style=\"color:red\">'Illegal Parking' & 'Blocked Driveway'</span></li>\n",
    "<li>As our data contains too many outliers , hence we will transform the data using log transformation In</li>"
   ]
  },
  {
   "cell_type": "code",
   "execution_count": 1110,
   "metadata": {},
   "outputs": [
    {
     "data": {
      "text/plain": [
       "count    74311.000000\n",
       "mean       269.853938\n",
       "std        357.238742\n",
       "min          3.000000\n",
       "25%         84.000000\n",
       "50%        176.000000\n",
       "75%        342.000000\n",
       "max      34642.000000\n",
       "Name: Request_Closing_Minutes, dtype: float64"
      ]
     },
     "execution_count": 1110,
     "metadata": {},
     "output_type": "execute_result"
    }
   ],
   "source": [
    "#Now lets describe original_IllegalParking variable and give statistics\n",
    "original_IllegalParking.describe()"
   ]
  },
  {
   "cell_type": "code",
   "execution_count": 1111,
   "metadata": {},
   "outputs": [
    {
     "data": {
      "text/plain": [
       "count    76752.000000\n",
       "mean       284.985017\n",
       "std        334.234679\n",
       "min          3.000000\n",
       "25%         97.000000\n",
       "50%        190.000000\n",
       "75%        359.000000\n",
       "max       8898.000000\n",
       "Name: Request_Closing_Minutes, dtype: float64"
      ]
     },
     "execution_count": 1111,
     "metadata": {},
     "output_type": "execute_result"
    }
   ],
   "source": [
    "#Now lets describe original_blockedDriveway variable and give statistics\n",
    "original_blockedDriveway.describe()"
   ]
  },
  {
   "cell_type": "markdown",
   "metadata": {},
   "source": [
    "<li>When we look at above original_blocked Driveway & original_IllegalParking statistics, it becomes clear that we have very few but very large values after th 75th percentile.</li>\n",
    "<li>To removes the skewness from the data we need to take Log transformation</li>\n",
    "<li>We will take the log of Request_Closing_Minutes for each complaint type and store in a dictionary.</li>\n"
   ]
  },
  {
   "cell_type": "code",
   "execution_count": 1112,
   "metadata": {},
   "outputs": [
    {
     "data": {
      "text/plain": [
       "dict_keys(['Noise - Street/Sidewalk', 'Blocked Driveway', 'Illegal Parking', 'Derelict Vehicle', 'Noise - Commercial', 'Noise - House of Worship', 'Posting Advertisement', 'Noise - Vehicle', 'Animal Abuse', 'Vending', 'Traffic', 'Drinking', 'Bike/Roller/Skate Chronic', 'Panhandling', 'Noise - Park', 'Homeless Encampment', 'Urinating in Public', 'Graffiti', 'Disorderly Youth', 'Illegal Fireworks', 'Squeegee', 'Animal in a Park'])"
      ]
     },
     "execution_count": 1112,
     "metadata": {},
     "output_type": "execute_result"
    }
   ],
   "source": [
    "data = {}\n",
    "for complaint in dataset['Complaint Type'].unique():\n",
    "    data[complaint] = np.log(dataset[dataset['Complaint Type']==complaint]['Request_Closing_Minutes'])\n",
    "\n",
    "data.keys()"
   ]
  },
  {
   "cell_type": "code",
   "execution_count": 1113,
   "metadata": {},
   "outputs": [
    {
     "data": {
      "text/plain": [
       "<matplotlib.axes._subplots.AxesSubplot at 0x2c0f10738c8>"
      ]
     },
     "execution_count": 1113,
     "metadata": {},
     "output_type": "execute_result"
    },
    {
     "data": {
      "image/png": "[encoded data removed]",
      "text/plain": [
       "<Figure size 432x288 with 1 Axes>"
      ]
     },
     "metadata": {
      "needs_background": "light"
     },
     "output_type": "display_data"
    }
   ],
   "source": [
    "data['Illegal Parking'].hist(bins=200)"
   ]
  },
  {
   "cell_type": "code",
   "execution_count": 1114,
   "metadata": {},
   "outputs": [
    {
     "data": {
      "text/plain": [
       "<matplotlib.axes._subplots.AxesSubplot at 0x2c0e050f688>"
      ]
     },
     "execution_count": 1114,
     "metadata": {},
     "output_type": "execute_result"
    },
    {
     "data": {
      "image/png": "[encoded data removed]",
      "text/plain": [
       "<Figure size 432x288 with 1 Axes>"
      ]
     },
     "metadata": {
      "needs_background": "light"
     },
     "output_type": "display_data"
    }
   ],
   "source": [
    "data['Blocked Driveway'].hist(bins=200)"
   ]
  },
  {
   "cell_type": "markdown",
   "metadata": {},
   "source": [
    "<div>As you can see Above distribution plot <span style=\"color:red\"> \"Blocked Driveway\" & \"Illegal Parking\" </span>shows that once we apply log Transformation to our data, <span style=\"color:green\"> skewness is almost removed and it looks more like a normal distribution.</span></div>"
   ]
  },
  {
   "cell_type": "code",
   "execution_count": 1115,
   "metadata": {},
   "outputs": [
    {
     "data": {
      "text/plain": [
       "<matplotlib.axes._subplots.AxesSubplot at 0x2c0ea17b808>"
      ]
     },
     "execution_count": 1115,
     "metadata": {},
     "output_type": "execute_result"
    },
    {
     "data": {
      "image/png": "[encoded data removed]",
      "text/plain": [
       "<Figure size 432x288 with 1 Axes>"
      ]
     },
     "metadata": {
      "needs_background": "light"
     },
     "output_type": "display_data"
    }
   ],
   "source": [
    "\n",
    "data['Blocked Driveway'].plot(kind='box')"
   ]
  },
  {
   "cell_type": "code",
   "execution_count": 1116,
   "metadata": {},
   "outputs": [
    {
     "data": {
      "text/plain": [
       "<matplotlib.axes._subplots.AxesSubplot at 0x2c0ed00c048>"
      ]
     },
     "execution_count": 1116,
     "metadata": {},
     "output_type": "execute_result"
    },
    {
     "data": {
      "image/png": "[encoded data removed]",
      "text/plain": [
       "<Figure size 432x288 with 1 Axes>"
      ]
     },
     "metadata": {
      "needs_background": "light"
     },
     "output_type": "display_data"
    }
   ],
   "source": [
    "data['Illegal Parking'].plot(kind='box')"
   ]
  },
  {
   "cell_type": "code",
   "execution_count": 1117,
   "metadata": {},
   "outputs": [
    {
     "name": "stdout",
     "output_type": "stream",
     "text": [
      "1.088122697901445\n",
      "0.9689131801038576\n",
      "1.0669325650218924\n",
      "1.2472412521336702\n",
      "1.0740645608715385\n",
      "1.1578783566404034\n",
      "1.1940496830014724\n",
      "1.0640501695025244\n",
      "1.0353874715070719\n",
      "1.098828353631681\n",
      "1.1688314448754398\n",
      "1.0354309769699395\n",
      "1.1549910802980003\n",
      "1.0578811759503506\n",
      "1.103276477974517\n",
      "1.02141533267075\n",
      "1.0896898895618483\n",
      "1.0581967861803852\n",
      "1.0276748370244453\n",
      "1.1905406895067956\n",
      "0.8469384425802964\n",
      "nan\n"
     ]
    }
   ],
   "source": [
    "#Now lets print standard deviation for all complaint type\n",
    "for complaint in data.keys():\n",
    "    print(data[complaint].std())"
   ]
  },
  {
   "cell_type": "markdown",
   "metadata": {},
   "source": [
    "Now we will futher move on to defining hypothesis and critical values."
   ]
  },
  {
   "cell_type": "markdown",
   "metadata": {},
   "source": [
    "<strong style=\"color:blue\">Null Hypothesis:</strong> Average response time for all the complaints type is same.<br>\n",
    "\n",
    "<strong style=\"color:blue\">Alternate Hypothesis:</strong> Average response time for all the complaints type is not same and theres is some difference among the groups."
   ]
  },
  {
   "cell_type": "markdown",
   "metadata": {},
   "source": [
    "<div>To conduct our hypothesis test, we will conduct an ANOVA (analysis of variance) test as we have to compare the means of more than two groups.<br>\n",
    "Below conditions should be met before conducting ANOVA.\n",
    "<li>All distributions must follow a normal distributions curve. We have verified this after the log transformation</li>\n",
    "    <li>Standard deviation for all groups must be same. Above output proves that this is true.</li>\n",
    "    <li>All samples are drawn independently of each other.</li></div>"
   ]
  },
  {
   "cell_type": "code",
   "execution_count": 1118,
   "metadata": {},
   "outputs": [
    {
     "data": {
      "text/plain": [
       "['Noise - Street/Sidewalk',\n",
       " 'Blocked Driveway',\n",
       " 'Illegal Parking',\n",
       " 'Derelict Vehicle',\n",
       " 'Noise - Commercial',\n",
       " 'Noise - House of Worship',\n",
       " 'Posting Advertisement',\n",
       " 'Noise - Vehicle',\n",
       " 'Animal Abuse',\n",
       " 'Vending',\n",
       " 'Traffic',\n",
       " 'Drinking',\n",
       " 'Bike/Roller/Skate Chronic',\n",
       " 'Panhandling',\n",
       " 'Noise - Park',\n",
       " 'Homeless Encampment',\n",
       " 'Urinating in Public',\n",
       " 'Graffiti',\n",
       " 'Disorderly Youth',\n",
       " 'Illegal Fireworks',\n",
       " 'Squeegee',\n",
       " 'Animal in a Park']"
      ]
     },
     "execution_count": 1118,
     "metadata": {},
     "output_type": "execute_result"
    }
   ],
   "source": [
    "[ complaint for complaint in data.keys() ]"
   ]
  },
  {
   "cell_type": "markdown",
   "metadata": {},
   "source": [
    "Below We conduct ANOVA test for top 5 type of complaints\n",
    "For a 95% of confidence interval we choose our alpha as 0.05 for 5%\n",
    "Alpha(0.05) is the critical p-value, if our calculated p-value is less than alpha, it will give us strong evidence to reject Null Hypothesis.\n",
    "\n",
    "if p < alpha(0.05) : Reject Null Hypothesis, Average response time for all the complaints type is not same.\n",
    "\n",
    "if p > alpha(0.05) : Fail to reject Null Hypothesis, Average response time for all the complaints type is same."
   ]
  },
  {
   "cell_type": "code",
   "execution_count": 1119,
   "metadata": {},
   "outputs": [
    {
     "name": "stdout",
     "output_type": "stream",
     "text": [
      "Statistics=2469.077, p=0.000\n",
      "Different distributions (reject H0)\n"
     ]
    }
   ],
   "source": [
    "stat, p = f_oneway(data['Blocked Driveway'],data['Illegal Parking'],data['Noise - Street/Sidewalk'],data['Noise - Commercial'],data['Derelict Vehicle'])\n",
    "print('Statistics=%.3f, p=%.3f' % (stat, p))\n",
    "# interpret\n",
    "alpha = 0.05\n",
    "if p > alpha:\n",
    "    print('Same distributions (fail to reject H0)')\n",
    "else:\n",
    "    print('Different distributions (reject H0)')"
   ]
  },
  {
   "cell_type": "markdown",
   "metadata": {},
   "source": [
    "As our p-value is quite low , hence it is being converted to 0.0\n",
    "Since our p-value is lowere that our critical p-value, we will conclude that we have enogh evidence to reject pur Null Hypothesis and that\n",
    "\n",
    "Average response time for all the complaints type is not same."
   ]
  },
  {
   "cell_type": "markdown",
   "metadata": {},
   "source": [
    "<h3 style=\"color:blue\">2. Are the type of complaint or service requested and location related?</h3>"
   ]
  },
  {
   "cell_type": "markdown",
   "metadata": {},
   "source": [
    "To find the correlation between location and complaint types, we will consider below columns\n",
    "1. Complaint Type\n",
    "2. Borough\n",
    "3. City\n",
    "4. Longitude\n",
    "5. Latitude"
   ]
  },
  {
   "cell_type": "code",
   "execution_count": 1120,
   "metadata": {},
   "outputs": [],
   "source": [
    "sample_data = dataset[['City','Complaint Type','Borough','Longitude','Latitude']]"
   ]
  },
  {
   "cell_type": "code",
   "execution_count": 1121,
   "metadata": {},
   "outputs": [
    {
     "data": {
      "text/html": [
       "<div>\n",
       "<style scoped>\n",
       "    .dataframe tbody tr th:only-of-type {\n",
       "        vertical-align: middle;\n",
       "    }\n",
       "\n",
       "    .dataframe tbody tr th {\n",
       "        vertical-align: top;\n",
       "    }\n",
       "\n",
       "    .dataframe thead th {\n",
       "        text-align: right;\n",
       "    }\n",
       "</style>\n",
       "<table border=\"1\" class=\"dataframe\">\n",
       "  <thead>\n",
       "    <tr style=\"text-align: right;\">\n",
       "      <th></th>\n",
       "      <th>City</th>\n",
       "      <th>Complaint Type</th>\n",
       "      <th>Borough</th>\n",
       "      <th>Longitude</th>\n",
       "      <th>Latitude</th>\n",
       "    </tr>\n",
       "  </thead>\n",
       "  <tbody>\n",
       "    <tr>\n",
       "      <td>0</td>\n",
       "      <td>NEW YORK</td>\n",
       "      <td>Noise - Street/Sidewalk</td>\n",
       "      <td>MANHATTAN</td>\n",
       "      <td>-73.923501</td>\n",
       "      <td>40.865682</td>\n",
       "    </tr>\n",
       "    <tr>\n",
       "      <td>1</td>\n",
       "      <td>ASTORIA</td>\n",
       "      <td>Blocked Driveway</td>\n",
       "      <td>QUEENS</td>\n",
       "      <td>-73.915094</td>\n",
       "      <td>40.775945</td>\n",
       "    </tr>\n",
       "    <tr>\n",
       "      <td>2</td>\n",
       "      <td>BRONX</td>\n",
       "      <td>Blocked Driveway</td>\n",
       "      <td>BRONX</td>\n",
       "      <td>-73.888525</td>\n",
       "      <td>40.870325</td>\n",
       "    </tr>\n",
       "    <tr>\n",
       "      <td>3</td>\n",
       "      <td>BRONX</td>\n",
       "      <td>Illegal Parking</td>\n",
       "      <td>BRONX</td>\n",
       "      <td>-73.828379</td>\n",
       "      <td>40.835994</td>\n",
       "    </tr>\n",
       "    <tr>\n",
       "      <td>4</td>\n",
       "      <td>ELMHURST</td>\n",
       "      <td>Illegal Parking</td>\n",
       "      <td>QUEENS</td>\n",
       "      <td>-73.874170</td>\n",
       "      <td>40.733060</td>\n",
       "    </tr>\n",
       "  </tbody>\n",
       "</table>\n",
       "</div>"
      ],
      "text/plain": [
       "       City           Complaint Type    Borough  Longitude   Latitude\n",
       "0  NEW YORK  Noise - Street/Sidewalk  MANHATTAN -73.923501  40.865682\n",
       "1   ASTORIA         Blocked Driveway     QUEENS -73.915094  40.775945\n",
       "2     BRONX         Blocked Driveway      BRONX -73.888525  40.870325\n",
       "3     BRONX          Illegal Parking      BRONX -73.828379  40.835994\n",
       "4  ELMHURST          Illegal Parking     QUEENS -73.874170  40.733060"
      ]
     },
     "execution_count": 1121,
     "metadata": {},
     "output_type": "execute_result"
    }
   ],
   "source": [
    "sample_data.head()"
   ]
  },
  {
   "cell_type": "markdown",
   "metadata": {},
   "source": [
    "<p style=\"color:blue\">As we can see our data in few columns such as Complaint Type, City, Borough is <b style=\"color:red\">Categorical</b>, hence we can not directly apply <b style=\"color:red\">corr()</b> method.<br></p>\n",
    "<p><b>First we will convert the categorical data to numerical data by mapping the category to category codes.</b></p>"
   ]
  },
  {
   "cell_type": "code",
   "execution_count": 1122,
   "metadata": {},
   "outputs": [
    {
     "name": "stderr",
     "output_type": "stream",
     "text": [
      "C:\\Users\\AL2676.ACCIONLABS\\AppData\\Local\\Continuum\\anaconda3\\lib\\site-packages\\ipykernel_launcher.py:1: SettingWithCopyWarning: \n",
      "A value is trying to be set on a copy of a slice from a DataFrame.\n",
      "Try using .loc[row_indexer,col_indexer] = value instead\n",
      "\n",
      "See the caveats in the documentation: http://pandas.pydata.org/pandas-docs/stable/user_guide/indexing.html#returning-a-view-versus-a-copy\n",
      "  \"\"\"Entry point for launching an IPython kernel.\n",
      "C:\\Users\\AL2676.ACCIONLABS\\AppData\\Local\\Continuum\\anaconda3\\lib\\site-packages\\ipykernel_launcher.py:2: SettingWithCopyWarning: \n",
      "A value is trying to be set on a copy of a slice from a DataFrame.\n",
      "Try using .loc[row_indexer,col_indexer] = value instead\n",
      "\n",
      "See the caveats in the documentation: http://pandas.pydata.org/pandas-docs/stable/user_guide/indexing.html#returning-a-view-versus-a-copy\n",
      "  \n",
      "C:\\Users\\AL2676.ACCIONLABS\\AppData\\Local\\Continuum\\anaconda3\\lib\\site-packages\\ipykernel_launcher.py:3: SettingWithCopyWarning: \n",
      "A value is trying to be set on a copy of a slice from a DataFrame.\n",
      "Try using .loc[row_indexer,col_indexer] = value instead\n",
      "\n",
      "See the caveats in the documentation: http://pandas.pydata.org/pandas-docs/stable/user_guide/indexing.html#returning-a-view-versus-a-copy\n",
      "  This is separate from the ipykernel package so we can avoid doing imports until\n"
     ]
    }
   ],
   "source": [
    "sample_data['Complaint Type'] = sample_data['Complaint Type'].cat.codes\n",
    "sample_data['Borough'] = sample_data['Borough'].cat.codes\n",
    "sample_data['City'] = sample_data['City'].cat.codes"
   ]
  },
  {
   "cell_type": "code",
   "execution_count": 1123,
   "metadata": {},
   "outputs": [
    {
     "data": {
      "text/html": [
       "<div>\n",
       "<style scoped>\n",
       "    .dataframe tbody tr th:only-of-type {\n",
       "        vertical-align: middle;\n",
       "    }\n",
       "\n",
       "    .dataframe tbody tr th {\n",
       "        vertical-align: top;\n",
       "    }\n",
       "\n",
       "    .dataframe thead th {\n",
       "        text-align: right;\n",
       "    }\n",
       "</style>\n",
       "<table border=\"1\" class=\"dataframe\">\n",
       "  <thead>\n",
       "    <tr style=\"text-align: right;\">\n",
       "      <th></th>\n",
       "      <th>City</th>\n",
       "      <th>Complaint Type</th>\n",
       "      <th>Borough</th>\n",
       "      <th>Longitude</th>\n",
       "      <th>Latitude</th>\n",
       "    </tr>\n",
       "  </thead>\n",
       "  <tbody>\n",
       "    <tr>\n",
       "      <td>0</td>\n",
       "      <td>33</td>\n",
       "      <td>16</td>\n",
       "      <td>2</td>\n",
       "      <td>-73.923501</td>\n",
       "      <td>40.865682</td>\n",
       "    </tr>\n",
       "    <tr>\n",
       "      <td>1</td>\n",
       "      <td>1</td>\n",
       "      <td>4</td>\n",
       "      <td>3</td>\n",
       "      <td>-73.915094</td>\n",
       "      <td>40.775945</td>\n",
       "    </tr>\n",
       "    <tr>\n",
       "      <td>2</td>\n",
       "      <td>6</td>\n",
       "      <td>4</td>\n",
       "      <td>0</td>\n",
       "      <td>-73.888525</td>\n",
       "      <td>40.870325</td>\n",
       "    </tr>\n",
       "    <tr>\n",
       "      <td>3</td>\n",
       "      <td>6</td>\n",
       "      <td>12</td>\n",
       "      <td>0</td>\n",
       "      <td>-73.828379</td>\n",
       "      <td>40.835994</td>\n",
       "    </tr>\n",
       "    <tr>\n",
       "      <td>4</td>\n",
       "      <td>13</td>\n",
       "      <td>12</td>\n",
       "      <td>3</td>\n",
       "      <td>-73.874170</td>\n",
       "      <td>40.733060</td>\n",
       "    </tr>\n",
       "  </tbody>\n",
       "</table>\n",
       "</div>"
      ],
      "text/plain": [
       "   City  Complaint Type  Borough  Longitude   Latitude\n",
       "0    33              16        2 -73.923501  40.865682\n",
       "1     1               4        3 -73.915094  40.775945\n",
       "2     6               4        0 -73.888525  40.870325\n",
       "3     6              12        0 -73.828379  40.835994\n",
       "4    13              12        3 -73.874170  40.733060"
      ]
     },
     "execution_count": 1123,
     "metadata": {},
     "output_type": "execute_result"
    }
   ],
   "source": [
    "sample_data.head()"
   ]
  },
  {
   "cell_type": "code",
   "execution_count": 1124,
   "metadata": {},
   "outputs": [
    {
     "data": {
      "text/html": [
       "<div>\n",
       "<style scoped>\n",
       "    .dataframe tbody tr th:only-of-type {\n",
       "        vertical-align: middle;\n",
       "    }\n",
       "\n",
       "    .dataframe tbody tr th {\n",
       "        vertical-align: top;\n",
       "    }\n",
       "\n",
       "    .dataframe thead th {\n",
       "        text-align: right;\n",
       "    }\n",
       "</style>\n",
       "<table border=\"1\" class=\"dataframe\">\n",
       "  <thead>\n",
       "    <tr style=\"text-align: right;\">\n",
       "      <th></th>\n",
       "      <th>City</th>\n",
       "      <th>Complaint Type</th>\n",
       "      <th>Borough</th>\n",
       "      <th>Longitude</th>\n",
       "      <th>Latitude</th>\n",
       "    </tr>\n",
       "  </thead>\n",
       "  <tbody>\n",
       "    <tr>\n",
       "      <td>City</td>\n",
       "      <td>1.000000</td>\n",
       "      <td>0.059379</td>\n",
       "      <td>0.687066</td>\n",
       "      <td>-0.097893</td>\n",
       "      <td>-0.046158</td>\n",
       "    </tr>\n",
       "    <tr>\n",
       "      <td>Complaint Type</td>\n",
       "      <td>0.059379</td>\n",
       "      <td>1.000000</td>\n",
       "      <td>-0.056291</td>\n",
       "      <td>-0.140809</td>\n",
       "      <td>0.129429</td>\n",
       "    </tr>\n",
       "    <tr>\n",
       "      <td>Borough</td>\n",
       "      <td>0.687066</td>\n",
       "      <td>-0.056291</td>\n",
       "      <td>1.000000</td>\n",
       "      <td>0.080996</td>\n",
       "      <td>-0.085337</td>\n",
       "    </tr>\n",
       "    <tr>\n",
       "      <td>Longitude</td>\n",
       "      <td>-0.097893</td>\n",
       "      <td>-0.140809</td>\n",
       "      <td>0.080996</td>\n",
       "      <td>1.000000</td>\n",
       "      <td>0.246788</td>\n",
       "    </tr>\n",
       "    <tr>\n",
       "      <td>Latitude</td>\n",
       "      <td>-0.046158</td>\n",
       "      <td>0.129429</td>\n",
       "      <td>-0.085337</td>\n",
       "      <td>0.246788</td>\n",
       "      <td>1.000000</td>\n",
       "    </tr>\n",
       "  </tbody>\n",
       "</table>\n",
       "</div>"
      ],
      "text/plain": [
       "                    City  Complaint Type   Borough  Longitude  Latitude\n",
       "City            1.000000        0.059379  0.687066  -0.097893 -0.046158\n",
       "Complaint Type  0.059379        1.000000 -0.056291  -0.140809  0.129429\n",
       "Borough         0.687066       -0.056291  1.000000   0.080996 -0.085337\n",
       "Longitude      -0.097893       -0.140809  0.080996   1.000000  0.246788\n",
       "Latitude       -0.046158        0.129429 -0.085337   0.246788  1.000000"
      ]
     },
     "execution_count": 1124,
     "metadata": {},
     "output_type": "execute_result"
    }
   ],
   "source": [
    "sample_data.corr(method='kendall')"
   ]
  },
  {
   "cell_type": "markdown",
   "metadata": {},
   "source": [
    "<p><b>As we can see from above table, there is no relationship between <span style=\"color:red\">complaint type and location.</span></b><br>\n",
    "<em>Which will be the general idea as in our data, most of the Complaint type are of <span style=\"color:green\">'Blocked Driveway'</span> and <span style=\"color:green\">'Illegal Parking'</span> which is common in all of the Boroughs.</em><p>"
   ]
  },
  {
   "cell_type": "markdown",
   "metadata": {},
   "source": [
    "<b><hr></b>"
   ]
  },
  {
   "cell_type": "code",
   "execution_count": null,
   "metadata": {},
   "outputs": [],
   "source": []
  }
 ],
 "metadata": {
  "kernelspec": {
   "display_name": "Python 3",
   "language": "python",
   "name": "python3"
  },
  "language_info": {
   "codemirror_mode": {
    "name": "ipython",
    "version": 3
   },
   "file_extension": ".py",
   "mimetype": "text/x-python",
   "name": "python",
   "nbconvert_exporter": "python",
   "pygments_lexer": "ipython3",
   "version": "3.7.4"
  }
 },
 "nbformat": 4,
 "nbformat_minor": 2
}
